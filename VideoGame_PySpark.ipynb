{
  "nbformat": 4,
  "nbformat_minor": 0,
  "metadata": {
    "colab": {
      "provenance": []
    },
    "kernelspec": {
      "name": "python3",
      "display_name": "Python 3"
    },
    "language_info": {
      "name": "python"
    }
  },
  "cells": [
    {
      "cell_type": "code",
      "execution_count": null,
      "metadata": {
        "colab": {
          "base_uri": "https://localhost:8080/"
        },
        "id": "7wYLMnG3Gils",
        "outputId": "db0d1cb4-f20e-47b2-e59d-42821316d771"
      },
      "outputs": [
        {
          "output_type": "stream",
          "name": "stdout",
          "text": [
            "Requirement already satisfied: pyspark in /usr/local/lib/python3.11/dist-packages (3.5.5)\n",
            "Requirement already satisfied: py4j==0.10.9.7 in /usr/local/lib/python3.11/dist-packages (from pyspark) (0.10.9.7)\n",
            "openjdk version \"11.0.26\" 2025-01-21\n",
            "OpenJDK Runtime Environment (build 11.0.26+4-post-Ubuntu-1ubuntu122.04)\n",
            "OpenJDK 64-Bit Server VM (build 11.0.26+4-post-Ubuntu-1ubuntu122.04, mixed mode, sharing)\n"
          ]
        }
      ],
      "source": [
        "!pip install pyspark\n",
        "!apt-get install openjdk-8-jdk-headless -qq > /dev/null\n",
        "!java -version"
      ]
    },
    {
      "cell_type": "code",
      "source": [
        "import os\n",
        "os.environ[\"JAVA_HOME\"] = \"/usr/lib/jvm/java-8-openjdk-amd64\"\n",
        "os.environ[\"SPARK_HOME\"] = \"/usr/local/lib/python3.11/dist-packages/pyspark\"\n"
      ],
      "metadata": {
        "id": "cVVLyWigW-LR"
      },
      "execution_count": null,
      "outputs": []
    },
    {
      "source": [
        "from pyspark.sql import SparkSession\n",
        "\n",
        "spark = SparkSession.builder.appName(\"BDAV\").getOrCreate()\n"
      ],
      "cell_type": "code",
      "metadata": {
        "id": "Fgu3K_PmGsqC"
      },
      "execution_count": null,
      "outputs": []
    },
    {
      "source": [
        "df = spark.read.csv(\"/content/games.csv\", header=True, inferSchema=True)\n",
        "df = df.fillna({'description':'NA'})\n",
        "df = df.dropna()\n",
        "df.show(100)"
      ],
      "cell_type": "code",
      "metadata": {
        "id": "jlWCG7ZAGvKP",
        "colab": {
          "base_uri": "https://localhost:8080/"
        },
        "outputId": "e4ebb107-1fed-49c6-850c-46ea6d898fce"
      },
      "execution_count": null,
      "outputs": [
        {
          "output_type": "stream",
          "name": "stdout",
          "text": [
            "+-------+--------------------+----------+------+-------+-----+-------+--------+---------+--------------------+\n",
            "|     id|                name|      date|rating|reviews|plays|playing|backlogs|wishlists|         description|\n",
            "+-------+--------------------+----------+------+-------+-----+-------+--------+---------+--------------------+\n",
            "|1000001|Cathode Ray Tube ...|1947-12-31|   3.6|     85|  149|      1|      42|       72|The cathode ray t...|\n",
            "|1000002|    Bertie the Brain|1950-08-25|   3.0|     26|   46|      0|       9|       17|Currently conside...|\n",
            "|1000003|                 Nim|1951-12-31|   1.9|      9|   26|      0|       2|        8|The Nimrod was a ...|\n",
            "|1000004|            Draughts|1952-08-31|   2.8|      9|   30|      0|       4|        7|\"A game of draugh...|\n",
            "|1000005|                 OXO|1952-12-31|   3.1|     22|   80|      0|      11|       15|OXO was a compute...|\n",
            "|1000006|                Pool|1954-06-26|   3.1|     12|   33|      0|       3|        4|\"A game of pool (...|\n",
            "|1000007|      Tennis for Two|1958-10-18|   3.0|     55|  136|      0|      22|       31|Tennis for Two is...|\n",
            "|1000008|   Mouse in the Maze|1959-01-16|   2.5|      8|   27|      0|       3|        6|A game where play...|\n",
            "|1000009|           Spacewar!|1962-04-30|   2.7|     34|  178|      0|      22|       35|Spacewar! is one ...|\n",
            "|1000010|   The Sumerian Game|1964-12-31|   3.0|      9|   28|      0|      10|        9|The Sumerian Game...|\n",
            "|1000011|           Periscope|1965-12-31|   2.0|      7|   29|      0|       8|       14|The electro-mecha...|\n",
            "|1000012|           Civil War|1968-12-31|   1.9|      8|   24|      0|       3|        2|\"A turn-based, st...|\n",
            "|1000013|            Hamurabi|1968-12-31|   2.4|     20|   60|      0|       6|       12|Hamurabi is a tex...|\n",
            "|1000015|        Table Tennis|1969-07-01|   2.8|     10|   48|      1|       8|        5|Table Tennis was ...|\n",
            "|1000016|        Lunar Lander|1969-09-30|   2.4|      7|   34|      0|       7|        7|The original Luna...|\n",
            "|1000020|            Highnoon|1970-09-12|   2.7|     17|   54|      0|      11|        5|Highnoon is a BAS...|\n",
            "|1000021|        Game of Life|1970-12-31|   3.1|     27|  118|      0|      13|       17|The Game of Life,...|\n",
            "|1000022|           Star Trek|1971-07-01|   3.0|     13|   40|      1|       9|        8|Star Trek is a te...|\n",
            "|1000023|         Galaxy Game|1971-09-01|   2.8|     12|   36|      0|       7|        7|Galaxy Game is on...|\n",
            "|1000024|      Computer Space|1971-11-01|   2.7|     26|   72|      0|      11|       18|Computer Space is...|\n",
            "|1000025|    The Oregon Trail|1971-12-03|   3.2|     64|  764|      3|      85|       80|The Oregon Trail ...|\n",
            "|1000028|                 Ski|1972-09-01|   1.4|      2|   14|      0|       3|        0|Ski is one of the...|\n",
            "|1000029|    Shooting Gallery|1972-09-01|   2.2|      1|   13|      0|       4|        0|Shooting Gallery ...|\n",
            "|1000030|       Haunted House|1972-09-01|   1.7|      2|   16|      0|       8|        5|Haunted House is ...|\n",
            "|1000031|              Hockey|1972-09-01|   2.2|      2|   10|      0|       1|        0|Hockey is one of ...|\n",
            "|1000033|            Analogic|1972-09-01|   1.3|      2|   11|      0|       2|        0|Analogic is one o...|\n",
            "|1000034|           Submarine|1972-09-01|   2.8|      2|   12|      0|       4|        1|Submarine is one ...|\n",
            "|1000036|              Tennis|1972-09-01|   2.1|      3|   19|      0|       2|        0|Haunted House is ...|\n",
            "|1000037|    Shooting Gallery|1972-09-01|   2.2|      1|   13|      0|       4|        0|Shooting Gallery ...|\n",
            "|1000039|              Hockey|1972-09-01|   2.2|      2|   10|      0|       1|        0|Hockey is one of ...|\n",
            "|1000040|       Haunted House|1972-09-01|   1.7|      2|   16|      0|       8|        5|Haunted House is ...|\n",
            "|1000041|                Pong|1972-11-29|   3.0|    278| 5100|      5|      99|       64|Pong is a table t...|\n",
            "|1000052|          Moonlander|1973-02-25|   3.3|      5|   48|      0|      11|        7|Moonlander (also ...|\n",
            "|1000056|     Hunt the Wumpus|1973-03-31|   2.6|     15|   60|      0|      17|        9|\"Hunt the Wumpus ...|\n",
            "|1000057|             Mugwump|1973-04-01|   1.9|      4|    9|      0|       4|        1|\"Mugwump is an ea...|\n",
            "|1000061|          Space Race|1973-07-16|   2.5|     10|   51|      0|       8|        4|Space Race is the...|\n",
            "|1000064|        Pong Doubles|1973-09-15|   2.4|      4|   20|      0|       3|        1|4-player version ...|\n",
            "|1000065|              Trek73|1973-10-08|   1.2|      3|   11|      0|       4|        2|Trek73 is a compu...|\n",
            "|1000066|              Gotcha|1973-10-11|   1.9|      4|   22|      0|       7|        2|Gotcha is a two-p...|\n",
            "|1000073|            Asteroid|1973-12-01|   2.8|      4|   78|      0|       6|        2|\"Asteroid was ori...|\n",
            "|1000077|                Maze|1973-12-31|   3.2|      7|   34|      0|      25|       21|Maze originated o...|\n",
            "|1000078|      Lemonade Stand|1973-12-31|   2.2|     14|   54|      0|      10|        5|\"Lemonade Stand i...|\n",
            "|1000087|             Rebound|1974-02-13|   2.5|      4|   18|      0|       4|        1|Rebound is a 2 pl...|\n",
            "|1000089|              Spasim|1974-03-01|   2.0|      1|    9|      0|       6|        5|Spasim (abbreviat...|\n",
            "|1000090|          Quadrapong|1974-03-04|   2.0|      2|   16|      0|       2|        1|\"Quadrapong is a ...|\n",
            "|1000092|        Gran Trak 10|1974-03-15|   3.5|      2|   12|      0|       7|        3|Gran Trak 10 was ...|\n",
            "|1000093|       TV Basketball|1974-04-01|   1.8|      3|   16|      0|       3|        0|Released in the a...|\n",
            "|1000095|         Clean Sweep|1974-05-01|   2.5|      5|   15|      1|       3|        0|Clean Sweep is a ...|\n",
            "|1000096|            Touch Me|1974-06-11|   2.1|      8|   44|      0|       6|        0|\"Touch me challen...|\n",
            "|1000099|            Pin Pong|1974-10-31|   2.6|      3|   12|      0|       3|        1|The first pinball...|\n",
            "|1000100|          Speed Race|1974-11-01|   3.6|      1|   10|      0|       8|        3|\"1974 saw the rel...|\n",
            "|1000101|                Tank|1974-11-05|   2.6|      4|   31|      0|       9|        4|\"Players move the...|\n",
            "|1000117|              Hi-way|1975-04-29|   1.8|      2|   13|      0|       3|        1|HI-way is a singl...|\n",
            "|1000122|       Anti-Aircraft|1975-06-06|   1.4|      2|   13|      0|       5|        1|Anti-Aircraft is ...|\n",
            "|1000124|          Shark Jaws|1975-09-25|   1.8|      4|   20|      0|       5|        4|Shark Jaws is a 1...|\n",
            "|1000125|         The Dungeon|1975-09-30|   3.3|      6|   25|      0|      10|       16|Also known as ped...|\n",
            "|1000126|        Steeplechase|1975-10-01|   2.0|     12|   54|      0|       9|        3|Steeplechase is a...|\n",
            "|1000127|         Jet Fighter|1975-10-15|   2.4|      2|   13|      0|       4|        1|The game is house...|\n",
            "|1000128|      Crash 'N Score|1975-10-15|   2.1|      2|   12|      0|       3|        1|Crash 'N Score is...|\n",
            "|1000129|           Gun Fight|1975-11-01|   2.9|     11|   65|      0|      14|        6|Old west theme sh...|\n",
            "|1000133|           Crossfire|1975-12-31|   2.1|      3|   16|      0|       3|        0|The game required...|\n",
            "|1000138|   Destruction Derby|1975-12-31|   2.7|      2|    9|      0|       5|        1|\"Exidy's first dr...|\n",
            "|1000139|The Game of Dungeons|1975-12-31|   3.4|      4|   18|      2|       6|        7|Also known as dnd...|\n",
            "|1000140|             Orthanc|1975-12-31|   3.9|      4|   16|      0|       9|        6|Expanded version ...|\n",
            "|1000145|         Stunt Cycle|1976-01-28|   1.3|      1|   20|      0|       4|        0|The game is house...|\n",
            "|1000150|            Sea Wolf|1976-03-31|   2.8|      5|   36|      0|       6|        1|\"Sea Wolf is an a...|\n",
            "|1000151|Colossal Cave Adv...|1976-03-31|   3.0|     16|  113|      1|      53|       51|Colossal Cave Adv...|\n",
            "|1000152|               Moria|1976-03-31|   4.6|      4|   23|      1|      19|       23|Moria is a dungeo...|\n",
            "|1000154|          Death Race|1976-04-01|   2.6|     11|   48|      0|      18|        6|\"Death Race is a ...|\n",
            "|1000157|            Breakout|1976-05-13|   3.1|     67|  741|      1|      48|       31|The objective of ...|\n",
            "|1000161|     Cops 'N Robbers|1976-06-01|   1.8|      1|   10|      0|       3|        0|Cops and robbers ...|\n",
            "|1000171|        Night Driver|1976-10-01|   2.3|     20|  107|      2|      17|       14|The player contro...|\n",
            "|1000173|   Heavyweight Champ|1976-10-01|   1.0|      2|    9|      0|       7|        1|A rudimentary box...|\n",
            "|1000175|            Blockade|1976-10-01|   2.7|      3|   31|      0|       8|        0|Blockade is a bla...|\n",
            "|1000176|        Amazing Maze|1976-10-01|   1.8|      1|   15|      0|       3|        0|The Amazing Maze ...|\n",
            "|1000177|           280 Zzzap|1976-11-01|   2.8|      2|   17|      0|       6|        1|The game is a sim...|\n",
            "|1000179|            Sprint 2|1976-11-02|   1.6|      4|   29|      0|       3|        0|Despite its name,...|\n",
            "|1000182|Videocart-1: Tic-...|1976-12-31|   2.2|      5|   18|      0|       2|        2|Videocart-1: Tic ...|\n",
            "|1000188|Videocart-3: Vide...|1976-12-31|   1.7|      3|   14|      0|       2|        1|Videocart 3: Vide...|\n",
            "|1000192|Videocart-2: Dese...|1976-12-31|   2.1|      5|   16|      0|       4|        2|Videocart-2: Dese...|\n",
            "|1000193|          Starship 1|1976-12-31|   2.6|      2|   14|      0|       2|        0|The object of Sta...|\n",
            "|1000199|             Dominos|1977-01-01|   2.1|      4|   23|      0|       5|        1|\"Gameplay is a va...|\n",
            "|1000201|Videocart-5: Spac...|1977-02-01|   0.9|      3|   11|      0|       4|        2|\"Videocart-5: Spa...|\n",
            "|1000202|Videocart-6: Math...|1977-02-01|   1.2|      4|   13|      0|       4|        0|Videocart-6: Math...|\n",
            "|1000203|Videocart-7: Math...|1977-02-01|   1.2|      4|   12|      0|       4|        1|Videocart-7: Math...|\n",
            "|1000206|      Guided Missile|1977-03-01|   1.8|      1|   10|      0|       4|        0|Launch missiles a...|\n",
            "|1000207|              Hustle|1977-04-01|   2.2|      3|   15|      0|       4|        0|Hustle is a 1977 ...|\n",
            "|1000211|            Sprint 8|1977-05-01|   2.1|     11|   66|      0|      10|        1|Sprint 8 is the t...|\n",
            "|1000212|           Boot Hill|1977-05-01|   2.7|      7|   43|      0|      11|        8|Boot Hill is a sh...|\n",
            "|1000213|                Zork|1977-05-01|   3.1|     21|  375|      5|     133|       87|Zork is one of th...|\n",
            "|1000217|          Pool Shark|1977-06-01|   1.8|      0|   16|      0|       4|        0|                  NA|\n",
            "|1000219|     Color TV-Game 6|1977-06-01|   2.8|      2|   10|      0|       4|        2|\"Color TV-Game 6 ...|\n",
            "|1000220|            Football|1977-06-01|   2.4|      0|   12|      0|       2|        1|Football was rele...|\n",
            "|1000221|         Triple Hunt|1977-06-03|   1.2|      1|   11|      0|       5|        0|Three changeable ...|\n",
            "|1000222|           Star Hawk|1977-06-03|   1.9|      0|   10|      0|       4|        1|Starhawk is a vec...|\n",
            "|1000223|           Super Bug|1977-06-04|   1.8|      4|   27|      0|       7|        2|Drive your vehicl...|\n",
            "|1000226|         M-79 Ambush|1977-07-01|   2.0|      1|   13|      0|       3|        0|                  NA|\n",
            "|1000227|Videocart-10: Maz...|1977-07-01|   1.8|      3|   13|      0|       4|        2|Poor little mice,...|\n",
            "|1000228|Videocart-13: Rob...|1977-07-01|   1.3|      3|   11|      0|       5|        1|This cart contain...|\n",
            "|1000229|Videocart-9: Drag...|1977-07-01|   1.7|      4|   11|      0|       4|        1|This drag racing ...|\n",
            "+-------+--------------------+----------+------+-------+-----+-------+--------+---------+--------------------+\n",
            "only showing top 100 rows\n",
            "\n"
          ]
        }
      ]
    },
    {
      "cell_type": "code",
      "source": [
        "df = df.filter((df[\"rating\"] >= 1.0) & (df[\"rating\"] <= 5.0))\n",
        "df.show(10)"
      ],
      "metadata": {
        "id": "dHeLLlC3-eu8",
        "colab": {
          "base_uri": "https://localhost:8080/"
        },
        "outputId": "12d61b47-b2dd-4c51-86b6-618db4eae726"
      },
      "execution_count": null,
      "outputs": [
        {
          "output_type": "stream",
          "name": "stdout",
          "text": [
            "+-------+--------------------+----------+------+-------+-----+-------+--------+---------+--------------------+\n",
            "|     id|                name|      date|rating|reviews|plays|playing|backlogs|wishlists|         description|\n",
            "+-------+--------------------+----------+------+-------+-----+-------+--------+---------+--------------------+\n",
            "|1000001|Cathode Ray Tube ...|1947-12-31|   3.6|     85|  149|      1|      42|       72|The cathode ray t...|\n",
            "|1000002|    Bertie the Brain|1950-08-25|   3.0|     26|   46|      0|       9|       17|Currently conside...|\n",
            "|1000003|                 Nim|1951-12-31|   1.9|      9|   26|      0|       2|        8|The Nimrod was a ...|\n",
            "|1000004|            Draughts|1952-08-31|   2.8|      9|   30|      0|       4|        7|\"A game of draugh...|\n",
            "|1000005|                 OXO|1952-12-31|   3.1|     22|   80|      0|      11|       15|OXO was a compute...|\n",
            "|1000006|                Pool|1954-06-26|   3.1|     12|   33|      0|       3|        4|\"A game of pool (...|\n",
            "|1000007|      Tennis for Two|1958-10-18|   3.0|     55|  136|      0|      22|       31|Tennis for Two is...|\n",
            "|1000008|   Mouse in the Maze|1959-01-16|   2.5|      8|   27|      0|       3|        6|A game where play...|\n",
            "|1000009|           Spacewar!|1962-04-30|   2.7|     34|  178|      0|      22|       35|Spacewar! is one ...|\n",
            "|1000010|   The Sumerian Game|1964-12-31|   3.0|      9|   28|      0|      10|        9|The Sumerian Game...|\n",
            "+-------+--------------------+----------+------+-------+-----+-------+--------+---------+--------------------+\n",
            "only showing top 10 rows\n",
            "\n"
          ]
        }
      ]
    },
    {
      "cell_type": "code",
      "source": [
        "filtered_df = df.filter(df[\"description\"] == \"NA\")\n",
        "filtered_df.show(10)"
      ],
      "metadata": {
        "id": "UP-ty4Dh_ILw",
        "colab": {
          "base_uri": "https://localhost:8080/"
        },
        "outputId": "f3bc1f0e-6032-42f1-8403-fe817d6fb74e"
      },
      "execution_count": null,
      "outputs": [
        {
          "output_type": "stream",
          "name": "stdout",
          "text": [
            "+-------+--------------------+----------+------+-------+-----+-------+--------+---------+-----------+\n",
            "|     id|                name|      date|rating|reviews|plays|playing|backlogs|wishlists|description|\n",
            "+-------+--------------------+----------+------+-------+-----+-------+--------+---------+-----------+\n",
            "|1000217|          Pool Shark|1977-06-01|   1.8|      0|   16|      0|       4|        0|         NA|\n",
            "|1000226|         M-79 Ambush|1977-07-01|   2.0|      1|   13|      0|       3|        0|         NA|\n",
            "|1000236|              Safari|1977-09-01|   1.0|      1|   12|      0|       2|        0|         NA|\n",
            "|1000261|                 M-4|1977-12-31|   2.4|      1|   12|      0|       4|        1|         NA|\n",
            "|1000375|Math-A-Magic! / E...|1978-12-31|   1.6|      1|   12|      0|       2|        0|         NA|\n",
            "|1000630|              Pulsar|1980-12-01|   2.9|      1|   14|      0|       3|        0|         NA|\n",
            "|1000650|        Steeplechase|1980-12-31|   1.7|      3|   15|      0|       6|        1|         NA|\n",
            "|1000842|            Round-Up|1981-10-01|   2.0|      0|    8|      0|       1|        0|         NA|\n",
            "|1000850|        Mickey Mouse|1981-10-09|   2.5|      2|   23|      0|       8|        1|         NA|\n",
            "|1001263|      Lock 'n' Chase|1982-09-30|   1.8|      3|    7|      0|       1|        0|         NA|\n",
            "+-------+--------------------+----------+------+-------+-----+-------+--------+---------+-----------+\n",
            "only showing top 10 rows\n",
            "\n"
          ]
        }
      ]
    },
    {
      "cell_type": "code",
      "source": [
        "grouped_df = df.groupBy(\"description\").count()\n",
        "grouped_df.show()"
      ],
      "metadata": {
        "id": "wbzF0p4bAKdr",
        "colab": {
          "base_uri": "https://localhost:8080/"
        },
        "outputId": "5466dbbe-088e-4521-ae06-74430d2762da"
      },
      "execution_count": null,
      "outputs": [
        {
          "output_type": "stream",
          "name": "stdout",
          "text": [
            "+--------------------+-----+\n",
            "|         description|count|\n",
            "+--------------------+-----+\n",
            "|Demolition Herby ...|    1|\n",
            "|In Super Bee the ...|    2|\n",
            "|The Isle of Gelno...|    2|\n",
            "|\"In part two of t...|    1|\n",
            "|Mervyn the sorcer...|    1|\n",
            "|In Gain Ground, p...|    1|\n",
            "|High-speed boat c...|    1|\n",
            "|Devilman is a sid...|    1|\n",
            "|Something was ter...|    1|\n",
            "|An adult version ...|    1|\n",
            "|You are T-800 in ...|    1|\n",
            "|You have come to ...|    1|\n",
            "|Super Airwolf is ...|    1|\n",
            "|\"Magic Pockets is...|    3|\n",
            "|Ganbare Goemon Ga...|    1|\n",
            "|SimLife was a gen...|    1|\n",
            "|The sequel to Win...|    2|\n",
            "|Coinciding with t...|    2|\n",
            "|Dragon's Revenge ...|    2|\n",
            "|Shadowrun is an a...|    1|\n",
            "+--------------------+-----+\n",
            "only showing top 20 rows\n",
            "\n"
          ]
        }
      ]
    },
    {
      "cell_type": "code",
      "source": [
        "transformed_df = df.filter(df[\"plays\"] > 50).groupBy(\"rating\").agg({\"reviews\": \"avg\"})\n",
        "transformed_df.show()"
      ],
      "metadata": {
        "id": "7xaoPFUFARIi",
        "colab": {
          "base_uri": "https://localhost:8080/"
        },
        "outputId": "d4a69dff-3bc4-4c5e-af49-61baa1f3b31b"
      },
      "execution_count": null,
      "outputs": [
        {
          "output_type": "stream",
          "name": "stdout",
          "text": [
            "+------+------------------+\n",
            "|rating|      avg(reviews)|\n",
            "+------+------------------+\n",
            "|   1.0|              41.4|\n",
            "|   2.6| 34.25430463576159|\n",
            "|   3.1|  46.4198250728863|\n",
            "|   4.2|266.47305389221555|\n",
            "|   2.7|28.666666666666668|\n",
            "|   1.7|18.031645569620252|\n",
            "|   3.8|118.23697650663942|\n",
            "|   4.4|354.81111111111113|\n",
            "|   2.9|41.638632162661736|\n",
            "|   4.5|           551.328|\n",
            "|   2.4| 33.38814531548757|\n",
            "|   2.5|29.851963746223564|\n",
            "|   1.6| 39.93636363636364|\n",
            "|   3.4| 68.13750899928006|\n",
            "|   1.8| 25.02173913043478|\n",
            "|   3.3| 52.32396345748419|\n",
            "|   3.5|  70.2762962962963|\n",
            "|   4.3|449.20647773279353|\n",
            "|   4.8| 17.88888888888889|\n",
            "|   4.1| 266.2888888888889|\n",
            "+------+------------------+\n",
            "only showing top 20 rows\n",
            "\n"
          ]
        }
      ]
    },
    {
      "cell_type": "code",
      "source": [
        "df.show()"
      ],
      "metadata": {
        "id": "JXi6VmnjAmB4",
        "colab": {
          "base_uri": "https://localhost:8080/"
        },
        "outputId": "3d881cf7-a617-48f6-dd1a-e9f1060d7cb1"
      },
      "execution_count": null,
      "outputs": [
        {
          "output_type": "stream",
          "name": "stdout",
          "text": [
            "+-------+--------------------+----------+------+-------+-----+-------+--------+---------+--------------------+\n",
            "|     id|                name|      date|rating|reviews|plays|playing|backlogs|wishlists|         description|\n",
            "+-------+--------------------+----------+------+-------+-----+-------+--------+---------+--------------------+\n",
            "|1000001|Cathode Ray Tube ...|1947-12-31|   3.6|     85|  149|      1|      42|       72|The cathode ray t...|\n",
            "|1000002|    Bertie the Brain|1950-08-25|   3.0|     26|   46|      0|       9|       17|Currently conside...|\n",
            "|1000003|                 Nim|1951-12-31|   1.9|      9|   26|      0|       2|        8|The Nimrod was a ...|\n",
            "|1000004|            Draughts|1952-08-31|   2.8|      9|   30|      0|       4|        7|\"A game of draugh...|\n",
            "|1000005|                 OXO|1952-12-31|   3.1|     22|   80|      0|      11|       15|OXO was a compute...|\n",
            "|1000006|                Pool|1954-06-26|   3.1|     12|   33|      0|       3|        4|\"A game of pool (...|\n",
            "|1000007|      Tennis for Two|1958-10-18|   3.0|     55|  136|      0|      22|       31|Tennis for Two is...|\n",
            "|1000008|   Mouse in the Maze|1959-01-16|   2.5|      8|   27|      0|       3|        6|A game where play...|\n",
            "|1000009|           Spacewar!|1962-04-30|   2.7|     34|  178|      0|      22|       35|Spacewar! is one ...|\n",
            "|1000010|   The Sumerian Game|1964-12-31|   3.0|      9|   28|      0|      10|        9|The Sumerian Game...|\n",
            "|1000011|           Periscope|1965-12-31|   2.0|      7|   29|      0|       8|       14|The electro-mecha...|\n",
            "|1000012|           Civil War|1968-12-31|   1.9|      8|   24|      0|       3|        2|\"A turn-based, st...|\n",
            "|1000013|            Hamurabi|1968-12-31|   2.4|     20|   60|      0|       6|       12|Hamurabi is a tex...|\n",
            "|1000015|        Table Tennis|1969-07-01|   2.8|     10|   48|      1|       8|        5|Table Tennis was ...|\n",
            "|1000016|        Lunar Lander|1969-09-30|   2.4|      7|   34|      0|       7|        7|The original Luna...|\n",
            "|1000020|            Highnoon|1970-09-12|   2.7|     17|   54|      0|      11|        5|Highnoon is a BAS...|\n",
            "|1000021|        Game of Life|1970-12-31|   3.1|     27|  118|      0|      13|       17|The Game of Life,...|\n",
            "|1000022|           Star Trek|1971-07-01|   3.0|     13|   40|      1|       9|        8|Star Trek is a te...|\n",
            "|1000023|         Galaxy Game|1971-09-01|   2.8|     12|   36|      0|       7|        7|Galaxy Game is on...|\n",
            "|1000024|      Computer Space|1971-11-01|   2.7|     26|   72|      0|      11|       18|Computer Space is...|\n",
            "+-------+--------------------+----------+------+-------+-----+-------+--------+---------+--------------------+\n",
            "only showing top 20 rows\n",
            "\n"
          ]
        }
      ]
    },
    {
      "cell_type": "code",
      "source": [
        "developers_df = spark.read.csv(\"/content/developers.csv\", header=True, inferSchema=True)\n",
        "platforms_df = spark.read.csv(\"/content/platforms.csv\", header=True, inferSchema=True)\n",
        "genres_df = spark.read.csv(\"/content/genres.csv\", header=True, inferSchema=True)\n",
        "scores_df = spark.read.csv(\"/content/scores.csv\", header=True, inferSchema=True)"
      ],
      "metadata": {
        "id": "48Vep8wqFlQp"
      },
      "execution_count": null,
      "outputs": []
    },
    {
      "cell_type": "code",
      "source": [
        "scores_df.show(10)\n",
        "genres_df.show(10)\n",
        "platforms_df.show(10)\n",
        "developers_df.show(10)"
      ],
      "metadata": {
        "id": "3VPcAqxtGXj8",
        "colab": {
          "base_uri": "https://localhost:8080/"
        },
        "outputId": "83614bb1-1960-438b-b795-4dd49fce3409"
      },
      "execution_count": null,
      "outputs": [
        {
          "output_type": "stream",
          "name": "stdout",
          "text": [
            "+-------+-----+------+\n",
            "|     id|score|amount|\n",
            "+-------+-----+------+\n",
            "|1000001|  0.5|     6|\n",
            "|1000001|  1.0|     5|\n",
            "|1000001|  1.5|     1|\n",
            "|1000001|  2.0|     5|\n",
            "|1000001|  2.5|    11|\n",
            "|1000001|  3.0|    12|\n",
            "|1000001|  3.5|     3|\n",
            "|1000001|  4.0|     2|\n",
            "|1000001|  4.5|     3|\n",
            "|1000001|  5.0|    43|\n",
            "+-------+-----+------+\n",
            "only showing top 10 rows\n",
            "\n",
            "+-------+-----------------+\n",
            "|     id|            genre|\n",
            "+-------+-----------------+\n",
            "|1000001|  Point-and-Click|\n",
            "|1000002|           Puzzle|\n",
            "|1000002|         Tactical|\n",
            "|1000003|          Pinball|\n",
            "|1000003|         Strategy|\n",
            "|1000004|Card & Board Game|\n",
            "|1000005|           Puzzle|\n",
            "|1000005|         Strategy|\n",
            "|1000006|            Sport|\n",
            "|1000007|           Arcade|\n",
            "+-------+-----------------+\n",
            "only showing top 10 rows\n",
            "\n",
            "+-------+--------------------+\n",
            "|     id|            platform|\n",
            "+-------+--------------------+\n",
            "|1000001|Analogue electronics|\n",
            "|1000002|              Arcade|\n",
            "|1000003|Ferranti Nimrod C...|\n",
            "|1000004|     Legacy Computer|\n",
            "|1000005|          Windows PC|\n",
            "|1000005|               EDSAC|\n",
            "|1000006|     Legacy Computer|\n",
            "|1000007|     Donner Model 30|\n",
            "|1000008|     Legacy Computer|\n",
            "|1000009|              PDP-11|\n",
            "+-------+--------------------+\n",
            "only showing top 10 rows\n",
            "\n",
            "+-------+--------------------+\n",
            "|     id|           developer|\n",
            "+-------+--------------------+\n",
            "|1000002|         Josef Kates|\n",
            "|1000004|Christopher Strachey|\n",
            "|1000005|\"Alexander Shafto...|\n",
            "|1000005|University of War...|\n",
            "|1000007| William Higinbotham|\n",
            "|1000009|        Steve Russel|\n",
            "|1000009|Computer Recreati...|\n",
            "|1000010|         Mabel Addis|\n",
            "|1000011|               Namco|\n",
            "|1000011|                Sega|\n",
            "+-------+--------------------+\n",
            "only showing top 10 rows\n",
            "\n"
          ]
        }
      ]
    },
    {
      "cell_type": "code",
      "source": [
        "from pyspark.sql.functions import sum, avg\n",
        "from pyspark.sql.functions import collect_set, concat_ws\n",
        "from pyspark.sql.functions import col\n",
        "\n",
        "# Add a new column by multiplying 'score' and 'amount'\n",
        "aggregated_scores = scores_df.withColumn(\"score_x_amount\", col(\"score\") * col(\"amount\"))\n",
        "aggregated_scores.show()\n",
        "\n",
        "# Group by 'id' and calculate the sum of the new column\n",
        "aggregated_scores = aggregated_scores.groupBy(\"id\").agg(avg(\"score_x_amount\").alias('Avg_Score'))\n",
        "aggregated_scores = aggregated_scores.orderBy(\"id\", ascending=True)\n",
        "\n",
        "# Aggregate the DataFrame to calculate total amount and average score\n",
        "genres_combined_df = genres_df.groupBy(\"id\") \\\n",
        "    .agg(collect_set(\"genre\").alias(\"genres\")) \\\n",
        "    .withColumn(\"genres\", concat_ws(\", \", \"genres\"))\n",
        "\n",
        "genres_combined_df.show()\n",
        "aggregated_scores.show()"
      ],
      "metadata": {
        "id": "jK1MFfEiAzed",
        "colab": {
          "base_uri": "https://localhost:8080/"
        },
        "outputId": "f63ac512-a149-45a5-9e9a-6bf1df75ae5e"
      },
      "execution_count": null,
      "outputs": [
        {
          "output_type": "stream",
          "name": "stdout",
          "text": [
            "+-------+-----+------+--------------+\n",
            "|     id|score|amount|score_x_amount|\n",
            "+-------+-----+------+--------------+\n",
            "|1000001|  0.5|     6|           3.0|\n",
            "|1000001|  1.0|     5|           5.0|\n",
            "|1000001|  1.5|     1|           1.5|\n",
            "|1000001|  2.0|     5|          10.0|\n",
            "|1000001|  2.5|    11|          27.5|\n",
            "|1000001|  3.0|    12|          36.0|\n",
            "|1000001|  3.5|     3|          10.5|\n",
            "|1000001|  4.0|     2|           8.0|\n",
            "|1000001|  4.5|     3|          13.5|\n",
            "|1000001|  5.0|    43|         215.0|\n",
            "|1000002|  0.5|     0|           0.0|\n",
            "|1000002|  1.0|     3|           3.0|\n",
            "|1000002|  1.5|     0|           0.0|\n",
            "|1000002|  2.0|     4|           8.0|\n",
            "|1000002|  2.5|     1|           2.5|\n",
            "|1000002|  3.0|     1|           3.0|\n",
            "|1000002|  3.5|     2|           7.0|\n",
            "|1000002|  4.0|     0|           0.0|\n",
            "|1000002|  4.5|     0|           0.0|\n",
            "|1000002|  5.0|     4|          20.0|\n",
            "+-------+-----+------+--------------+\n",
            "only showing top 20 rows\n",
            "\n",
            "+-------+--------------------+\n",
            "|     id|              genres|\n",
            "+-------+--------------------+\n",
            "|1000001|     Point-and-Click|\n",
            "|1000002|    Tactical, Puzzle|\n",
            "|1000003|   Pinball, Strategy|\n",
            "|1000005|    Strategy, Puzzle|\n",
            "|1000007|       Arcade, Sport|\n",
            "|1000009|  Shooter, Simulator|\n",
            "|1000013|            Strategy|\n",
            "|1000014|              Racing|\n",
            "|1000015|       Arcade, Sport|\n",
            "|1000018|           Simulator|\n",
            "|1000019|             Shooter|\n",
            "|1000021|    Indie, Simulator|\n",
            "|1000027|               Sport|\n",
            "|1000034|           Simulator|\n",
            "|1000037|             Shooter|\n",
            "|1000042|              Arcade|\n",
            "|1000043|               Sport|\n",
            "|1000044|             Shooter|\n",
            "|1000052|           Simulator|\n",
            "|1000055|Shooter, Strategy...|\n",
            "+-------+--------------------+\n",
            "only showing top 20 rows\n",
            "\n",
            "+-------+---------+\n",
            "|     id|Avg_Score|\n",
            "+-------+---------+\n",
            "|1000001|     33.0|\n",
            "|1000002|     4.35|\n",
            "|1000003|     0.95|\n",
            "|1000004|      1.9|\n",
            "|1000005|     11.5|\n",
            "|1000006|      3.5|\n",
            "|1000007|    23.75|\n",
            "|1000008|      1.9|\n",
            "|1000009|    22.15|\n",
            "|1000010|     2.45|\n",
            "|1000011|     1.05|\n",
            "|1000012|      1.6|\n",
            "|1000013|     5.25|\n",
            "|1000014|      0.1|\n",
            "|1000015|     6.55|\n",
            "|1000016|      2.5|\n",
            "|1000017|      0.0|\n",
            "|1000018|     0.65|\n",
            "|1000019|      0.4|\n",
            "|1000020|      5.7|\n",
            "+-------+---------+\n",
            "only showing top 20 rows\n",
            "\n"
          ]
        }
      ]
    },
    {
      "cell_type": "code",
      "source": [
        "platforms_combined_df = platforms_df.groupBy(\"id\").agg(collect_set(\"platform\").alias(\"platforms\")).withColumn(\"platforms\", concat_ws(\", \", \"platforms\"))\n"
      ],
      "metadata": {
        "id": "ncZ0pIMjLPL4"
      },
      "execution_count": null,
      "outputs": []
    },
    {
      "cell_type": "code",
      "source": [
        "final_df = df.join(developers_df, on=\"id\", how=\"inner\")\n",
        "final_df = aggregated_scores.join(final_df, on=\"id\", how=\"inner\")\n",
        "final_df = genres_combined_df.join(final_df, on=\"id\", how=\"inner\")\n",
        "final_df = platforms_combined_df.join(final_df, on=\"id\", how=\"inner\")\n"
      ],
      "metadata": {
        "id": "yOkcfvIcCrKw"
      },
      "execution_count": null,
      "outputs": []
    },
    {
      "cell_type": "code",
      "source": [
        "final_df = final_df.dropDuplicates()\n",
        "final_df.show(10)"
      ],
      "metadata": {
        "id": "00o_Y18YEz1Y",
        "colab": {
          "base_uri": "https://localhost:8080/"
        },
        "outputId": "f2a1dc20-19d0-46af-8b18-dcb23f6cc36d"
      },
      "execution_count": null,
      "outputs": [
        {
          "output_type": "stream",
          "name": "stdout",
          "text": [
            "+-------+--------------------+------------------+---------+----------------+----------+------+-------+-----+-------+--------+---------+--------------------+--------------------+\n",
            "|     id|           platforms|            genres|Avg_Score|            name|      date|rating|reviews|plays|playing|backlogs|wishlists|         description|           developer|\n",
            "+-------+--------------------+------------------+---------+----------------+----------+------+-------+-----+-------+--------+---------+--------------------+--------------------+\n",
            "|1000002|              Arcade|  Tactical, Puzzle|     4.35|Bertie the Brain|1950-08-25|   3.0|     26|   46|      0|       9|       17|Currently conside...|         Josef Kates|\n",
            "|1000005|   EDSAC, Windows PC|  Strategy, Puzzle|     11.5|             OXO|1952-12-31|   3.1|     22|   80|      0|      11|       15|OXO was a compute...|University of War...|\n",
            "|1000005|   EDSAC, Windows PC|  Strategy, Puzzle|     11.5|             OXO|1952-12-31|   3.1|     22|   80|      0|      11|       15|OXO was a compute...|\"Alexander Shafto...|\n",
            "|1000007|     Donner Model 30|     Arcade, Sport|    23.75|  Tennis for Two|1958-10-18|   3.0|     55|  136|      0|      22|       31|Tennis for Two is...| William Higinbotham|\n",
            "|1000009|       PDP-1, PDP-11|Shooter, Simulator|    22.15|       Spacewar!|1962-04-30|   2.7|     34|  178|      0|      22|       35|Spacewar! is one ...|Computer Recreati...|\n",
            "|1000009|       PDP-1, PDP-11|Shooter, Simulator|    22.15|       Spacewar!|1962-04-30|   2.7|     34|  178|      0|      22|       35|Spacewar! is one ...|        Steve Russel|\n",
            "|1000015|Odyssey, Analogue...|     Arcade, Sport|     6.55|    Table Tennis|1969-07-01|   2.8|     10|   48|      1|       8|        5|Table Tennis was ...|            Magnavox|\n",
            "|1000021|BBC Microcomputer...|  Indie, Simulator|     13.6|    Game of Life|1970-12-31|   3.1|     27|  118|      0|      13|       17|The Game of Life,...|  John Horton Conway|\n",
            "|1000021|BBC Microcomputer...|  Indie, Simulator|     13.6|    Game of Life|1970-12-31|   3.1|     27|  118|      0|      13|       17|The Game of Life,...| Scientific American|\n",
            "|1000034|             Odyssey|         Simulator|     0.85|       Submarine|1972-09-01|   2.8|      2|   12|      0|       4|        1|Submarine is one ...|            Magnavox|\n",
            "+-------+--------------------+------------------+---------+----------------+----------+------+-------+-----+-------+--------+---------+--------------------+--------------------+\n",
            "only showing top 10 rows\n",
            "\n"
          ]
        }
      ]
    },
    {
      "cell_type": "code",
      "source": [
        "final_df.write.csv(\"/content/final\", header=True, mode = 'overwrite')"
      ],
      "metadata": {
        "id": "uNz4kwjsTnST"
      },
      "execution_count": null,
      "outputs": []
    },
    {
      "cell_type": "code",
      "source": [
        "final_df = df.join(developers_df, on=\"id\", how=\"inner\")\n",
        "final_df = aggregated_scores.join(final_df, on=\"id\", how=\"inner\")\n",
        "final_df = genres_df.join(final_df, on=\"id\", how=\"inner\")\n",
        "final_df = platforms_df.join(final_df, on=\"id\", how=\"inner\")"
      ],
      "metadata": {
        "id": "uXQwoHF7OV7h"
      },
      "execution_count": null,
      "outputs": []
    },
    {
      "cell_type": "code",
      "source": [
        "final_df.show(10)"
      ],
      "metadata": {
        "colab": {
          "base_uri": "https://localhost:8080/"
        },
        "id": "Rdukm98YOh-J",
        "outputId": "38edcea7-4c41-4a29-d954-dc3a35402f50"
      },
      "execution_count": null,
      "outputs": [
        {
          "output_type": "stream",
          "name": "stdout",
          "text": [
            "+-------+--------------------+-------+---------+--------------------+----------+------+-------+-----+-------+--------+---------+--------------------+--------------+\n",
            "|     id|            platform|  genre|Avg_Score|                name|      date|rating|reviews|plays|playing|backlogs|wishlists|         description|     developer|\n",
            "+-------+--------------------+-------+---------+--------------------+----------+------+-------+-----+-------+--------+---------+--------------------+--------------+\n",
            "|1001043|Philips Videopac ...|Shooter|      0.8|                UFO!|1981-12-31|   2.7|      1|    6|      0|       0|        1|The game features...|      Magnavox|\n",
            "|1001129|        Game & Watch| Arcade|     5.85|       Turtle Bridge|1982-02-01|   2.6|      6|   50|      0|       9|        2|Turtle Bridge is ...|      Nintendo|\n",
            "|1002431|    Commodore VIC-20|    RPG|      0.3|Ultima: Escape fr...|1983-12-31|   1.0|      1|    9|      1|      11|        6|The odd one out o...|Sierra On-Line|\n",
            "|1003031|   Commodore C64/128|Shooter|    21.45|              Gaplus|1984-04-01|   3.2|     19|   97|      0|      40|       16|\"Gaplus is a fixe...| Namco Limited|\n",
            "|1003031|               PC-98|Shooter|    21.45|              Gaplus|1984-04-01|   3.2|     19|   97|      0|      40|       16|\"Gaplus is a fixe...| Namco Limited|\n",
            "|1003031|                 Wii|Shooter|    21.45|              Gaplus|1984-04-01|   3.2|     19|   97|      0|      40|       16|\"Gaplus is a fixe...| Namco Limited|\n",
            "|1003031|              Arcade|Shooter|    21.45|              Gaplus|1984-04-01|   3.2|     19|   97|      0|      40|       16|\"Gaplus is a fixe...| Namco Limited|\n",
            "|1003031|   Commodore C64/128| Arcade|    21.45|              Gaplus|1984-04-01|   3.2|     19|   97|      0|      40|       16|\"Gaplus is a fixe...| Namco Limited|\n",
            "|1003031|               PC-98| Arcade|    21.45|              Gaplus|1984-04-01|   3.2|     19|   97|      0|      40|       16|\"Gaplus is a fixe...| Namco Limited|\n",
            "|1003031|                 Wii| Arcade|    21.45|              Gaplus|1984-04-01|   3.2|     19|   97|      0|      40|       16|\"Gaplus is a fixe...| Namco Limited|\n",
            "+-------+--------------------+-------+---------+--------------------+----------+------+-------+-----+-------+--------+---------+--------------------+--------------+\n",
            "only showing top 10 rows\n",
            "\n"
          ]
        }
      ]
    },
    {
      "cell_type": "code",
      "source": [
        "pivoted_df = final_df.groupBy(\"genre\").pivot(\"platform\").agg(avg(\"Avg_Score\"))\n",
        "pivoted_df.show(10)\n"
      ],
      "metadata": {
        "colab": {
          "base_uri": "https://localhost:8080/"
        },
        "id": "CpbxCexhCh80",
        "outputId": "1febf38b-8c73-4847-a56b-10ad2eeeff49"
      },
      "execution_count": null,
      "outputs": [
        {
          "output_type": "stream",
          "name": "stdout",
          "text": [
            "+-------------------+---------------------------------------+---------------------------+-----------------+---------+------------------+------------------+------------------+------------------+------------------+------------------+------------------+--------------------+------------------+------------------+------------------+------------+------------------+-------+------------------+-----------------+------------------+------------------+------------------+------------------+------------------+------------------+------------------------+------------------+------------------+--------------+------------+------------------+-----------------+------------------+--------------+-------------+------------------+-----------------+--------+------------------+--------+---------+---------------+------------------+------------------+-----+---------------------+---------------------------+------------------+------------------+-----------------+-------------------+-------------------------+---------------------------+------+------------------+------------------+------------------+------------------+--------+-------+--------+------------------+-------+-----------------------+------------------+------------------+-------------------+-----------+------------------+----------------------------------+------------------+------------------+------------------+------------------+------------------+------------------+-------------+------------------+------------------+------------------+------------------+------------------+------------------+------------------+--------------+--------------------+------------------+------------------+------------------+------------------+------------------+------------------+------------------+--------------------+------------------+----+-------+---------+-----------------+------------------+------------------+------------------+------------------+------------------+------------------+------------------+--------------------+------------------+------------------+-----+-----+------+------------------+-----+-----+-----+-------+------------+------------------+----------------------+------------------+------------------+------------------+------------------+------------------+--------------------+------------------+------------------+------------------+-------+------------------+------------------+------------------+-----------------+-----------+------------------+------------------+------------------+------------------+------------------+-----------+------------------+------------------+-----------------------+---------+------------------+-------------+-----------------+------------------+-------------+------+------------------+-----------+------------------+------------------+---------------------+--------------+-----------------+-----------------------+------------------+-----------------------+--------------------------+-------+-------+-----------------+------------------+-----------------------------------------+----------------------------+------------------+------------------+------------------+---------------------+------------------+------------------+-----------------+----------+------------------+------------------+------------------+------------------+------------------+------------------+------------------+------------------+--------+\n",
            "|              genre|1292 Advanced Programmable Video System|3DO Interactive Multiplayer|        AY-3-8606|AY-3-8760|  Acorn Archimedes|    Acorn Electron|    Amazon Fire TV|             Amiga|        Amiga CD32|       Amstrad CPC|       Amstrad PCW|Analogue electronics|           Android|          Apple II|        Apple IIGS|Apple Pippin|            Arcade|Arduboy|        Atari 2600|       Atari 5200|        Atari 7800|       Atari 8-bit|      Atari Jaguar|   Atari Jaguar CD|        Atari Lynx|      Atari ST/STE|BBC Microcomputer System|   Bally Astrocade|     BlackBerry OS|Blu-ray Player|CDC Cyber 70|      ColecoVision|     Commodore 16| Commodore C64/128|Commodore CDTV|Commodore PET|  Commodore Plus/4| Commodore VIC-20|DEC GT40|        DVD Player|Daydream|Digiblast|Donner Model 30|      Dragon 32/64|         Dreamcast|EDSAC|Epoch Cassette Vision|Epoch Super Cassette Vision|          Evercade|          FM Towns|             FM-7|Fairchild Channel F|Family Computer (FAMICOM)|Family Computer Disk System|Gamate|      Game & Watch|          Game Boy|  Game Boy Advance|    Game Boy Color|Game.com|Gear VR|Gizmondo|     Google Stadia|HP 2100|Handheld Electronic LCD|  Hyper Neo Geo 64|     Intellivision|Intellivision Amico|LaserActive|          Leapster|Leapster Explorer/LeadPad Explorer|   Legacy Computer|             Linux|               MSX|              MSX2|               Mac|      Meta Quest 3|Microcomputer|            Mobile|            N-Gage|NEC PC-6000 Series|               NES|       Neo Geo AES|        Neo Geo CD|       Neo Geo MVS|Neo Geo Pocket|Neo Geo Pocket Color|  New Nintendo 3DS|      Nintendo 3DS|       Nintendo 64|     Nintendo 64DD|       Nintendo DS|      Nintendo DSi| Nintendo GameCube|Nintendo PlayStation|   Nintendo Switch|Nuon|OOParts|Oculus Go|     Oculus Quest|    Oculus Quest 2|       Oculus Rift|         Oculus VR|           Odyssey|OnLive Game System|              Ouya|            PC DOS|PC Engine SuperGrafx|           PC-8801|             PC-98|PC-FX|PDP-1|PDP-10|            PDP-11|PDP-7|PDP-8|PLATO|Palm OS|Panasonic M2|      Philips CD-i|Philips Videopac G7000|       PlayStation|     PlayStation 2|     PlayStation 3|     PlayStation 4|     PlayStation 5|PlayStation Portable|    PlayStation VR|  PlayStation Vita|          Playdate|Playdia|   Playstation VR2|       Plug & Play|     PocketStation|     Pokémon mini|SDS Sigma 7|           SG-1000|              SNES|       Satellaview|          Sega 32X|           Sega CD|Sega CD 32X|    Sega Game Gear|Sega Master System|Sega Mega Drive/Genesis|Sega Pico|       Sega Saturn|Sharp MZ-2200|         Sharp X1|      Sharp X68000|Sinclair ZX81|Stadia|           SteamVR|Super A'Can|     Super Famicom|            TRS-80|TRS-80 Color Computer|Tapwave Zodiac|  Tatung Einstein|Texas Instruments TI-99|       Thomson MO5|TurboGrafx-16/PC Engine|Turbografx-16/PC Engine CD|V.Smile|VC 4000|          Vectrex|       Virtual Boy|Visual Memory Unit / Visual Memory System|Watara/QuickShot Supervision|       Web browser|               Wii|             Wii U|Windows Mixed Reality|    Windows Mobile|        Windows PC|    Windows Phone|WonderSwan|  WonderSwan Color|              Xbox|          Xbox 360|          Xbox One|       Xbox Series|       ZX Spectrum|             Zeebo|               iOS|visionOS|\n",
            "+-------------------+---------------------------------------+---------------------------+-----------------+---------+------------------+------------------+------------------+------------------+------------------+------------------+------------------+--------------------+------------------+------------------+------------------+------------+------------------+-------+------------------+-----------------+------------------+------------------+------------------+------------------+------------------+------------------+------------------------+------------------+------------------+--------------+------------+------------------+-----------------+------------------+--------------+-------------+------------------+-----------------+--------+------------------+--------+---------+---------------+------------------+------------------+-----+---------------------+---------------------------+------------------+------------------+-----------------+-------------------+-------------------------+---------------------------+------+------------------+------------------+------------------+------------------+--------+-------+--------+------------------+-------+-----------------------+------------------+------------------+-------------------+-----------+------------------+----------------------------------+------------------+------------------+------------------+------------------+------------------+------------------+-------------+------------------+------------------+------------------+------------------+------------------+------------------+------------------+--------------+--------------------+------------------+------------------+------------------+------------------+------------------+------------------+------------------+--------------------+------------------+----+-------+---------+-----------------+------------------+------------------+------------------+------------------+------------------+------------------+------------------+--------------------+------------------+------------------+-----+-----+------+------------------+-----+-----+-----+-------+------------+------------------+----------------------+------------------+------------------+------------------+------------------+------------------+--------------------+------------------+------------------+------------------+-------+------------------+------------------+------------------+-----------------+-----------+------------------+------------------+------------------+------------------+------------------+-----------+------------------+------------------+-----------------------+---------+------------------+-------------+-----------------+------------------+-------------+------+------------------+-----------+------------------+------------------+---------------------+--------------+-----------------+-----------------------+------------------+-----------------------+--------------------------+-------+-------+-----------------+------------------+-----------------------------------------+----------------------------+------------------+------------------+------------------+---------------------+------------------+------------------+-----------------+----------+------------------+------------------+------------------+------------------+------------------+------------------+------------------+------------------+--------+\n",
            "| Real Time Strategy|                                   NULL|                       4.85|             NULL|     NULL|              40.9|              NULL|              NULL|11.312000000000001|              NULL|              NULL|              NULL|                NULL|110.22676056338027|              NULL|              NULL|        NULL| 37.98333333333333|   NULL|              NULL|             NULL|              NULL|              0.55|              NULL|              NULL|              NULL|10.060000000000002|                    NULL|              NULL| 9.016666666666667|          NULL|        NULL|              0.55|             NULL|              0.55|          NULL|         NULL|              NULL|             NULL|    NULL|              NULL|    NULL|     NULL|           NULL|              NULL|341.73125000000005| NULL|                 NULL|                       NULL|              NULL| 5.250000000000001|             NULL|               NULL|                      7.5|                       NULL|  NULL|              NULL|             34.85|22.766666666666666| 6.316666666666667|    NULL|   NULL|    NULL|              NULL|   NULL|                   NULL|              NULL|              2.85|               NULL|       NULL|              NULL|                              NULL|              NULL| 67.12149253731349|              1.15|              NULL|125.19415204678347|              NULL|         NULL|1.4833333333333334|              NULL|              NULL|0.7000000000000001|              NULL|              NULL|              NULL|          NULL|                NULL|              NULL|10.799999999999999| 91.08333333333333|27.099999999999998|26.389189189189178|           7293.25|505.16333333333347|                NULL|100.65669642857145|NULL|   NULL|     NULL|             NULL|              NULL|             37.75|              NULL|              NULL|              NULL|              3.15| 42.93382352941177|                NULL|              2.15| 9.103846153846156| NULL| NULL|  NULL|              NULL| NULL| NULL| NULL|   NULL|        NULL|              NULL|                  NULL| 55.91666666666665| 83.81428571428573|235.99357142857136|57.979360465116265|41.502564102564115|    67.7230769230769|2.9333333333333336|367.37727272727284|              NULL|   NULL|              NULL|              NULL|              NULL|             NULL|       NULL|              NULL|          50.46875|               1.7|              NULL|             22.55|       NULL|              NULL|             34.85|      21.28124999999999|     NULL| 63.64000000000001|         NULL|             NULL| 14.21666666666667|         NULL|  NULL|              NULL|       NULL|             68.22|              NULL|                 NULL|          NULL|             NULL|                   NULL|              NULL|     43.949999999999996|                      1.85|   NULL|   NULL|             NULL|              NULL|                                     NULL|                        NULL|35.943902439024406|198.17391304347822|           146.316|                 NULL|              NULL| 60.27400909681593|725.1541666666666|      NULL|               1.2|13.035714285714283| 271.6239130434782| 85.61646341463411| 71.35106382978724|              NULL|              NULL|103.62909090909083|    NULL|\n",
            "|          Adventure|                                   NULL|          50.06076923076924|             NULL|     NULL| 47.92499999999999|           2.03125|333.07500000000016| 35.38315926892954| 19.78809523809524|11.890683229813666|10.493749999999999|                NULL| 171.6928283198833|13.864919354838712|26.682758620689647|        8.58|444.37781690140855|   NULL| 16.37173913043478|23.47142857142857|              2.15|  8.69305555555556| 62.60555555555556|104.69999999999999|              4.05| 23.97522123893807|       4.352380952380953|              NULL|177.64772727272722|        43.325|      108.35|           22.5425|9.719444444444445| 27.56830985915494|         1.475|         1.05|12.082142857142857|             8.65|    NULL| 37.17727272727272|   19.05|    107.7|           NULL|              NULL|237.31829268292694| NULL|                 NULL|                       NULL|              4.77| 44.97499999999998|          11.9825|               NULL|       229.98364485981287|          750.1255555555556|  1.15|15.033333333333331|160.47830188679237| 263.5810623556579|189.87784090909082|   10.95|5.34375|    NULL|1165.4163563829782| 108.35|     1.6666666666666665|              NULL| 33.89999999999999|  3.616666666666666|     339.25|              NULL|                              NULL|              NULL|211.28993351063636| 22.44493670886076| 81.77571428571427|219.70350547965768| 63.12051282051279|         8.75| 98.37876712328769|1457.0749999999998|             33.19|191.01915584415576|          342.5125| 296.3333333333333|          342.5125|          NULL|                 0.6| 1814.587903225807| 450.6366341991338| 561.3597560975605|2815.0666666666675|274.06224358974407|144.47361111111113|470.71424802110806|               326.6|224.55724423053235|NULL|  71.25|      1.0|50.64836065573772|37.306510416666704|  193.548951048951|15.411666666666669|               0.5|           2711.47| 715.0637254901965| 40.06994645247658|                NULL| 12.00612244897959|14.786702127659575|4.025| NULL|33.675|26.691666666666666| NULL| NULL| NULL|   NULL|        54.5|46.458928571428565|                  NULL| 227.5765042979947|  345.036681222707| 663.3565391879127| 343.5326900202205| 306.8896679473099|  371.80403481012655|110.80189573459711|   351.08405923345|7.6000000000000005|   0.85|171.57208333333344| 6.257142857142858|50.849999999999994|             3.65|       NULL|3.7115384615384617|436.01945454545455|468.84622641509446|             29.45|43.585443037974684|       0.55| 42.87499999999999| 75.40754716981128|     60.999754901960834|     NULL| 67.33023952095806|         NULL| 9.28409090909091| 20.65312500000001|         1.25|  NULL|141.60827205882381|       NULL| 536.2002109704639|12.517499999999998|    22.23076923076923|          NULL|         19.34375|                   7.69|1.5999999999999999|     23.210975609756094|         45.95232558139535|   1.36|   NULL|             NULL|              0.95|                                     NULL|                        NULL| 46.03859797297294|   531.37650862069| 753.7687851518566|   104.33472222222227| 60.35833333333333|194.55152991251043|596.0974452554736|    67.475|0.9500000000000001| 359.3876086956522| 703.3739537788884| 319.6614476817493|290.14377887280443|12.559154929577469|6.4399999999999995|232.04428338762347|    55.4|\n",
            "|            Brawler|                                   NULL|                       79.9|             NULL|     NULL|              NULL|              NULL|            699.45|153.48688524590165|246.72500000000002|           77.4875|              NULL|                NULL|143.25462427745663|              50.4|              47.8|        NULL| 83.66103896103891|   NULL|              4.16|             NULL|              51.7|              50.4|             16.65|              NULL|              10.2| 83.95833333333333|                    NULL|              NULL|              12.6|          NULL|        NULL|              NULL|             NULL|180.96999999999997|          NULL|         NULL|              NULL|            18.95|    NULL|              NULL|    NULL|      4.7|           NULL|              NULL| 173.5532258064516| NULL|                 NULL|                       NULL|              NULL|27.489999999999995|             NULL|               NULL|       123.61811594202898|         1511.0333333333335|  1.15|              NULL|7.6725806451612915| 44.57252747252748|11.966666666666661|    NULL|   NULL|    NULL| 427.2490196078429|   NULL|     2.8666666666666667|              NULL|              NULL|               NULL|       NULL|              NULL|                              NULL|              NULL|262.26763285024134|         105.14375|             17.25|440.75699745547087|              NULL|         NULL| 126.5797619047619|          764.8625|              NULL|130.91600000000003|22.050000000000004|14.412500000000001|22.050000000000004|          NULL|                NULL|127.48333333333333|206.73892857142863| 193.7090909090909|              NULL|113.66470588235288|               4.5| 283.6762195121952|                3.65| 318.8846886912321|NULL|   NULL|     NULL|            54.05|51.839999999999996|32.300000000000004| 51.89166666666666|              NULL|          10003.85| 3280.116666666667|198.26250000000007|                NULL|              NULL|              51.7| NULL| NULL|  NULL|              NULL| NULL| NULL| NULL|   NULL|        NULL|              NULL|                  NULL| 95.74854368932041| 313.3965277777777|448.76961538461495|461.30068728522315|455.91807228915724|  185.29964788732394|              72.0|145.44511494252885|              NULL|   NULL| 45.34166666666667|              NULL|              NULL|             NULL|       NULL|              NULL| 64.39158878504675|12.516666666666666|              NULL|             7.075|       NULL| 66.75441176470588|24.982999999999997|      73.71360294117649|     NULL| 39.35526315789474|         NULL|            19.25|            5.3625|         NULL|  NULL|31.525000000000002|       NULL| 51.68292682926828|              NULL|                 NULL|         99.45|             NULL|                   NULL|              NULL|      58.32241379310346|         4.977777777777778|   NULL|   NULL|             NULL|              NULL|                                     NULL|                        NULL|10.099999999999998|263.50467980295554| 293.8719879518071|                  0.7|              2.95| 366.0301995012479|            33.39|      NULL|            524.45|201.41182432432424|466.90180360721456|  397.658616647127|385.30250000000046| 70.50227272727274|11.964285714285714| 342.3073891625618|    NULL|\n",
            "|             Arcade|                                   10.7|                      24.95|80.11666666666666|     0.75|              NULL|25.162500000000012|            860.95| 35.20074074074081|              6.93| 23.87902097902098|              NULL|                6.55|126.47539608574078| 39.75782608695654| 42.36071428571429|        NULL|  61.6377889745111|   NULL|10.407478005865102| 20.4461111111111|20.755000000000006|15.900731707317071| 54.66666666666666| 38.15714285714286| 18.71935483870968| 30.27489795918369|       22.07272727272728| 4.300000000000001|258.59999999999997|          NULL|        NULL|12.582352941176469|20.72916666666666|21.750292968750014|          NULL|         NULL|            42.225|22.02847222222222|    NULL|7.7749999999999995|    NULL|      2.4|          23.75| 3.647058823529412|130.00379746835446| NULL|                  1.0|                       0.75|               9.7| 73.73870967741935|72.67799999999997|                0.4|        80.30128205128209|          84.49473684210524|  1.15| 5.991071428571429| 28.73787878787879| 91.88541666666667|22.967391304347824|    NULL|   NULL|    NULL| 674.9265957446809|   NULL|     30.952777777777783|11.983333333333334|14.007333333333342|               5.75|       NULL|3.2166666666666663|                            337.75|18.549999999999997|129.09303944315533| 22.43878048780487|118.04166666666667|134.27877862595426|6.8500000000000005|         NULL|63.290109890109925|21.400000000000002|2.7880952380952375| 53.77737642585551|137.99855072463762|139.47905405405402|138.68695652173906|          NULL|               19.85|1002.8736842105264|151.63177710843365| 93.57249999999999| 9.033333333333333| 140.1287356321839| 92.74374999999999|239.26585365853666|                NULL| 71.11439278066686|3.25|   NULL|     NULL|70.36052631578947| 62.62692307692307| 47.91309523809524|17.786363636363635|               3.5|              3.15|194.66833333333332| 38.25920679886683|              21.875|29.498749999999994|125.53214285714286| NULL| NULL|  NULL|              NULL| NULL| NULL| NULL|  15.75|        NULL|          6.421875|    15.468181818181819|  75.9641762452107|142.53094059405942|164.52623762376214| 89.67722872125809|100.16811688311667|  107.66555555555558|54.025396825396804|149.19321428571422| 8.743750000000002|   NULL| 94.82124999999999|120.43181818181819|              NULL|4.487500000000001|       NULL| 7.269531249999999| 79.94194630872487|59.768181818181844|          348.1125|16.495833333333334|       NULL| 47.38355263157893|27.104605263157875|      65.59234449760771|     NULL| 86.78551724137927|        47.05|57.73717948717946| 78.41190476190478|          9.0|  NULL|29.573636363636368|       NULL|121.87214285714285|            15.375|   11.946153846153846|          NULL|4.333333333333334|     52.925757575757565| 2.266666666666666|      37.35584415584417|        21.195312499999996|   NULL|   10.7|           11.505|25.518181818181816|                                     NULL|          0.7666666666666666| 51.39739454094291|114.73973747016706|187.37043918918903|                 9.79|             113.8| 76.06144162210371|187.2516129032257|    132.25|            524.45|329.15769230769246|143.56440677966097|101.27256281406989|105.55670553935887|            22.925| 23.63235294117647|121.50801724137925|    16.0|\n",
            "|               MOBA|                                   NULL|                       NULL|             NULL|     NULL|              NULL|              NULL|              NULL|              NULL|              NULL|              NULL|              NULL|                NULL|29.353703703703697|              NULL|              NULL|        NULL|               7.1|   NULL|              NULL|             NULL|              NULL|              NULL|              NULL|              NULL|              NULL|              NULL|                    NULL|              NULL|              NULL|          NULL|        NULL|              NULL|             NULL|              NULL|          NULL|         NULL|              NULL|             NULL|    NULL|              NULL|    NULL|     NULL|           NULL|              NULL|              NULL| NULL|                 NULL|                       NULL|              NULL|              NULL|             NULL|               NULL|                     NULL|                       NULL|  NULL|              NULL|              NULL|              NULL|              NULL|    NULL|   NULL|    NULL|              NULL|   NULL|                   NULL|              NULL|              NULL|               NULL|       NULL|              NULL|                              NULL|              NULL|303.78000000000003|              NULL|              NULL|1106.3636363636363|              NULL|         NULL|              NULL|              NULL|              NULL|              NULL|              NULL|              NULL|              NULL|          NULL|                NULL|              NULL|              NULL|              NULL|              NULL|              NULL|              NULL|              NULL|                NULL|160.26666666666668|NULL|   NULL|     NULL|             NULL|              NULL|              NULL|              NULL|              NULL|              NULL|              NULL|              NULL|                NULL|              NULL|              NULL| NULL| NULL|  NULL|              NULL| NULL| NULL| NULL|   NULL|        NULL|              NULL|                  NULL|              NULL|              NULL|             239.8|207.72777777777776| 8.299999999999999|                NULL|              NULL|              NULL|              NULL|   NULL|              NULL|              NULL|              NULL|             NULL|       NULL|              NULL|              NULL|              NULL|              NULL|              NULL|       NULL|              NULL|              NULL|                   NULL|     NULL|              NULL|         NULL|             NULL|              NULL|         NULL|  NULL|              NULL|       NULL|              NULL|              NULL|                 NULL|          NULL|             NULL|                   NULL|              NULL|                   NULL|                      NULL|   NULL|   NULL|             NULL|              NULL|                                     NULL|                        NULL|              NULL|              NULL|              NULL|                 NULL|              NULL| 274.5619565217392|             NULL|      NULL|              NULL|              NULL|120.83333333333333| 591.5666666666666|10.059999999999999|              NULL|              NULL|31.641999999999992|    NULL|\n",
            "|Turn Based Strategy|                                   NULL|                        6.8|             NULL|     NULL|              NULL|              NULL|              NULL|16.258888888888887|            133.75| 3.223076923076923|              NULL|                NULL| 83.38191780821917|3.0199999999999996|              NULL|        NULL|15.580000000000002|   NULL|              NULL|             NULL|              NULL|7.3928571428571415|              NULL|              NULL|              NULL|20.099999999999998|                    NULL|              NULL|              NULL|          NULL|        NULL|              NULL|             NULL|3.7194444444444454|          NULL|         NULL|              NULL|             NULL|    NULL|              NULL|    NULL|     NULL|           NULL|              NULL|              NULL| NULL|                 NULL|                       NULL|              NULL| 9.866666666666665|             8.85|               0.75|       51.834615384615375|                       NULL|  NULL|              NULL|       1053.821875| 707.5876470588237| 631.4652173913043|    NULL|   NULL|    NULL| 793.9499999999999|   3.25|                   NULL|              NULL|              NULL|                1.0|       NULL|              NULL|                              NULL|              NULL| 196.9825471698116|              8.16|              NULL|196.41161538461566|              NULL|          1.6|           168.225|              NULL|              NULL| 7.928571428571429|              NULL|              NULL|              NULL|          NULL|                3.65|            4447.3| 892.8711538461533|1822.0333333333335|              2.35| 873.1225490196073|             204.7| 642.6617647058823|                NULL| 382.5833916083916|NULL|   NULL|     NULL|             NULL|              NULL|              NULL|              NULL|              NULL|           1973.75|              24.9|62.940740740740736|                NULL|7.9799999999999995| 4.558695652173915| NULL| NULL|  NULL|              NULL| NULL| NULL| NULL|   NULL|        NULL|              NULL|                  NULL|431.85083333333347| 53.95833333333335|453.01007751938005| 368.2058659217875|394.47457264957285|  436.57133333333314|             289.8| 733.8211340206188|              4.75|   NULL|              NULL|              NULL|              NULL|              3.2|        4.9|              NULL|415.78636363636366|53.199999999999996|               6.8|15.721428571428572|       NULL|3.7678571428571423|              3.75|      41.80294117647059|     NULL|35.245833333333344|         8.85|9.372222222222222|               7.5|         NULL|  NULL|             572.1|       NULL| 609.3416666666668|              NULL|                 NULL|          NULL|             NULL|                   NULL|              NULL|      5.335714285714286|        12.383333333333333|   NULL|   NULL|             NULL|              NULL|                                     NULL|                        NULL| 32.39137931034482|198.57232142857146| 794.6326530612242|                 NULL|              NULL|158.07219556088762|71.93076923076923|      2.05|              1.15| 69.37222222222223| 76.28483146067416| 345.2318181818181|472.55227272727274|3.0799999999999996|              NULL|  86.8712790697675|    NULL|\n",
            "|             Racing|                                   NULL|          26.46153846153846|             NULL|     0.75|              NULL|            159.15|              1.75| 17.69450549450548|27.220000000000006|17.279661016949163|              NULL|                NULL|235.15520000000006|             39.45|61.849999999999994|        NULL|43.021955128205136|   NULL|           11.1625|            71.25| 4.499999999999999|26.223333333333333|             4.225|              NULL| 7.012500000000001|16.227142857142855|                 69.5125|              NULL|60.815384615384616|          NULL|        NULL|15.261111111111108|           159.15|16.060919540229882|          NULL|         NULL|            159.15|            58.15|    NULL|              NULL|    NULL|     NULL|           NULL|              NULL| 72.53701923076923| NULL|                 NULL|                       NULL|              NULL|              20.1|             NULL|               0.85|       38.806060606060605|          5.768750000000001|  NULL|              NULL| 5.458823529411764|32.915753424657545|22.750000000000004|    NULL|   NULL|    NULL|100.27564102564104|   NULL|      16.26666666666667|              0.95|21.916666666666675|               NULL|       NULL|3.2166666666666663|                              NULL|              NULL| 194.2597619047618| 22.65000000000001|              NULL|223.12553763440835|              NULL|         NULL|22.429166666666664|            43.875|              NULL|27.499999999999993| 4.466666666666666| 4.466666666666666| 4.466666666666666|          NULL|                2.45| 917.6285714285714|136.85399999999993| 130.2347517730496|             12.85| 78.97456896551726| 6.828571428571428|245.63942307692307|                NULL|171.43945147679324|NULL|   NULL|     NULL|7.374999999999999| 6.549999999999999| 67.18571428571428| 8.524999999999999|              0.55|            104.05|              1.25|23.241477272727266|                NULL|             41.05|              NULL| NULL| NULL|  NULL|              NULL| NULL| NULL| NULL|   NULL|        NULL|              NULL|                  NULL|47.348426966292145|153.96270676691728| 373.6573226544623| 198.3926553672313| 97.56598360655741|  103.63451776649755|  75.8826923076923|109.99350000000004|3.3166666666666664|   NULL| 151.0142857142857|              NULL|              NULL|             2.05|       NULL|13.002777777777778| 95.90056818181823|201.41923076923075|3.5772727272727276| 6.554166666666667|       NULL|11.981081081081081| 5.968918918918919|     21.474999999999998|     NULL| 25.18051948051949|         NULL|             NULL|183.36666666666667|         NULL|  NULL|           13.6875|       NULL|178.49374999999992|              NULL|                 3.95|          NULL|             NULL|                 38.225|              NULL|     4.8100000000000005|                      NULL|   NULL|   NULL|48.86666666666667|               1.2|                                     NULL|                        NULL| 52.03815789473684|173.27436974789939| 407.2043859649123|                  9.8|              NULL|  141.068010496183|83.91190476190478|       0.7|               0.7|263.31682098765424|455.88879551820736|183.39449339207036| 136.0963855421687|20.750735294117646|             20.25|202.73841059602654|     4.6|\n",
            "|  Card & Board Game|                                   NULL|                     8.7125|             NULL|     NULL|             31.05|              NULL|             283.8|20.916666666666668|             31.05|              NULL|              NULL|                NULL| 88.50223642172527|20.916666666666668|             31.05|        NULL| 2.995238095238095|   NULL|2.7833333333333328|             NULL|              NULL|              NULL|              NULL|              NULL|              NULL|20.916666666666668|                    NULL|              NULL|             17.25|          NULL|        NULL|              NULL|             NULL|20.916666666666668|         31.05|         NULL|              NULL|             NULL|    NULL|              NULL|    NULL|     NULL|           NULL|              NULL|            40.725| NULL|                 NULL|                       NULL|              NULL|             21.05|             NULL|               0.75|       2.1846153846153844|          5.057142857142858|  NULL|              1.95|3.9450000000000003| 33.43513513513515|111.46250000000002|    NULL|   NULL|    NULL|171.26666666666665|   NULL|                    1.9|              NULL|              NULL|                4.1|       NULL|              NULL|                              NULL|               1.9| 57.52713414634147|              NULL|              NULL| 72.11989528795809|              NULL|         NULL|18.186363636363637|              NULL|              NULL| 8.437499999999998|              NULL|               1.0|              NULL|          NULL|               9.575|              NULL| 281.0102941176471| 562.0388888888889|            1447.9| 73.03981481481483| 9.329999999999998| 450.9441176470589|                NULL| 75.36008583690975|NULL|   NULL|     NULL|8.985714285714286| 8.985714285714286|             26.65| 8.985714285714286|              NULL|              NULL|              NULL|12.674999999999999|                NULL|              NULL|             13.35|  1.4| NULL|  NULL|              NULL| NULL| NULL| NULL|   NULL|        NULL|              0.75|                  NULL| 55.41818181818182|122.64242424242423| 40.28863636363639| 70.36111111111106|122.51171875000001|  2.9684210526315793|17.183333333333334| 5.778378378378379|               4.0|   NULL| 9.600000000000001|              NULL|              NULL|              3.2|       NULL|               0.5| 5.028571428571428|             1.375|              NULL|              NULL|       NULL|             2.725|              2.25|      6.925000000000001|     NULL|               1.6|         NULL|             NULL|             21.05|         NULL|  NULL| 84.63823529411765|       NULL|            3.7875|              NULL|                 NULL|          NULL|             NULL|                   NULL|              NULL|                   NULL|                       1.8|   NULL|   NULL|             NULL|              NULL|                                     NULL|                        NULL| 44.25454545454546|202.10686274509803| 317.2684210526316|                  1.0|               5.9| 49.04229490022162|          28.8875|       2.4|              NULL| 16.71428571428571| 42.79848484848489| 87.47773972602737|161.55327102803733|              NULL|              NULL|  79.1327868852459|    1.25|\n",
            "|            Pinball|                                   NULL|                       NULL|             NULL|     NULL|              NULL|              NULL|              NULL| 4.424999999999999|               2.3|              NULL|              NULL|                NULL|12.872222222222222|               2.5|              NULL|        NULL|13.343333333333337|   NULL|              3.25|             NULL|              NULL|               2.5|               7.0|              NULL|              NULL|              NULL|                    NULL|              NULL|              NULL|          NULL|        NULL|              NULL|             NULL|               2.5|          NULL|         NULL|              NULL|             NULL|    NULL|              NULL|    NULL|     NULL|           NULL|              NULL|              NULL| NULL|                 NULL|                       NULL|              NULL|              NULL|             NULL|               NULL|                   37.475|                      132.7|  NULL|               1.7|41.224999999999994| 80.65882352941176| 75.83846153846153|    NULL|   NULL|    NULL|              NULL|   NULL|                   NULL|              NULL|              1.15|               5.75|       NULL|              NULL|                              NULL|              NULL|           122.625|              3.55|              NULL| 29.91162790697674|              NULL|         NULL|             2.225|              NULL|               2.5| 19.32777777777778|              NULL|              NULL|              NULL|          NULL|                NULL|              NULL|              34.4|              NULL|              NULL|             83.15|              NULL|             12.05|                NULL| 72.25200000000001|NULL|   NULL|     NULL|              2.2|              1.75|20.533333333333335|              NULL|              NULL|              NULL|              NULL|3.9136363636363627|                NULL|               2.5|               2.5| NULL| NULL|  NULL|              NULL| NULL| NULL| NULL|   NULL|        NULL|              NULL|                   0.9| 2.717142857142857|             10.29|           15.4375| 69.17307692307692|          13.04375|  15.895000000000001|               2.2| 12.45769230769231|              NULL|   NULL|              NULL|              NULL|              NULL|              8.3|       NULL|              NULL|15.716666666666667|              5.85|              NULL|              NULL|       NULL| 5.835714285714286|              17.1|                 76.575|     NULL|3.3055555555555554|         NULL|             NULL|               3.3|         NULL|  NULL| 24.71666666666667|       NULL|              5.85|              NULL|                 NULL|          NULL|             NULL|                   NULL|              NULL|     31.316666666666674|                      NULL|   NULL|   NULL|             NULL|              16.0|                                     NULL|                        NULL|               2.2| 95.89230769230772| 92.12058823529411|                 NULL|              NULL|46.343956043956034|             NULL|      NULL|              NULL|             9.325|13.408333333333333| 85.83500000000001|             9.175|              NULL|              NULL|10.034615384615384|    NULL|\n",
            "|            Shooter|                                   NULL|          8.280357142857145|             NULL|     NULL|201.45000000000005| 24.46578947368421|             11.15|28.497884615384585|12.513636363636367|13.912918660287078|              1.95|                NULL| 369.1253684210528|21.771641791044775|12.433333333333335|        1.45|35.049464285714265|   NULL| 9.648654708520183|23.64428571428571|19.826785714285723|10.767431192660547|15.728260869565215|              11.8|15.361538461538457|16.549759615384616|      18.986666666666675|3.4000000000000004|19.845454545454547|          NULL|        NULL|10.421276595744684| 8.32272727272727|12.343693693693682|         19.25|         NULL|             11.83|9.427500000000002|    NULL|               1.6|  302.15|     NULL|           NULL|3.9624999999999995|190.54539007092202| NULL|                 NULL|                       0.75|1.7100000000000002|18.760714285714283|86.04599999999996| 1.6000000000000003|       32.692187500000024|         49.199999999999996|  NULL|             12.05|31.149382716049416|131.30263157894737|14.409259259259256|     0.9|   NULL|    15.7| 1344.821827411166|   NULL|     167.06666666666666|               1.9|10.551388888888887|               NULL|       NULL|              NULL|                              6.55|              2.05|415.76561546286877|22.055078124999998|149.03571428571428| 472.2234277816179|16.964285714285708|         NULL| 140.2553398058252|23.342857142857145|4.1899999999999995|29.733268482490278| 195.0655737704918|231.28478260869554|196.46065573770488|          NULL|                22.5| 2240.384210526316|252.58078817734008|224.28556701030934|             94.35| 73.24559999999998| 240.3928571428572|391.36953125000036|                62.3| 218.5370546914202|0.85|   NULL|     NULL| 52.3111111111111| 33.50812499999999| 88.14374999999995| 30.41481481481483|0.5833333333333334|499.51250000000005|            103.93| 81.91124497991974|               15.15|25.271621621621613| 484.6930555555555|  1.7|22.15|  NULL|15.883333333333333| NULL| NULL| NULL|  15.75|        54.5| 5.623076923076923|     6.008333333333334|109.25378323108391| 311.5555393586009| 667.7584304318029| 369.5532576747224|313.40263808738666|   202.0213461538461|102.80277777777782|345.09879310344826| 5.714285714285714|   NULL|173.23936170212764| 4.688461538461538|             75.85|             NULL|       NULL| 6.905882352941176| 143.7704453441296|            78.975| 35.10576923076925|17.844594594594593|       0.85| 8.486486486486488|10.183018867924522|     42.214876033057855|     NULL| 96.57990867579908|         1.35|75.05344827586204|32.888235294117656|         NULL|  NULL| 55.94653465346532|       NULL|252.81576923076926|            15.375|   20.880000000000003|        1851.4|             NULL|                 9.6625|              2.57|     15.512389380530982|         9.197014925373132|   NULL|   NULL|4.911764705882354| 8.766666666666666|                                     NULL|          0.5499999999999999|25.642732558139524| 196.5529636711281| 406.2522556390973|   146.95526315789476|2404.6499999999996|265.84992118744225|350.7469696969696|      22.3|11.266666666666667| 398.9744493392073| 682.5785304659491|357.69289297658787|319.53365468886966|13.268235294117643|441.28499999999997| 274.9953736654809|    NULL|\n",
            "+-------------------+---------------------------------------+---------------------------+-----------------+---------+------------------+------------------+------------------+------------------+------------------+------------------+------------------+--------------------+------------------+------------------+------------------+------------+------------------+-------+------------------+-----------------+------------------+------------------+------------------+------------------+------------------+------------------+------------------------+------------------+------------------+--------------+------------+------------------+-----------------+------------------+--------------+-------------+------------------+-----------------+--------+------------------+--------+---------+---------------+------------------+------------------+-----+---------------------+---------------------------+------------------+------------------+-----------------+-------------------+-------------------------+---------------------------+------+------------------+------------------+------------------+------------------+--------+-------+--------+------------------+-------+-----------------------+------------------+------------------+-------------------+-----------+------------------+----------------------------------+------------------+------------------+------------------+------------------+------------------+------------------+-------------+------------------+------------------+------------------+------------------+------------------+------------------+------------------+--------------+--------------------+------------------+------------------+------------------+------------------+------------------+------------------+------------------+--------------------+------------------+----+-------+---------+-----------------+------------------+------------------+------------------+------------------+------------------+------------------+------------------+--------------------+------------------+------------------+-----+-----+------+------------------+-----+-----+-----+-------+------------+------------------+----------------------+------------------+------------------+------------------+------------------+------------------+--------------------+------------------+------------------+------------------+-------+------------------+------------------+------------------+-----------------+-----------+------------------+------------------+------------------+------------------+------------------+-----------+------------------+------------------+-----------------------+---------+------------------+-------------+-----------------+------------------+-------------+------+------------------+-----------+------------------+------------------+---------------------+--------------+-----------------+-----------------------+------------------+-----------------------+--------------------------+-------+-------+-----------------+------------------+-----------------------------------------+----------------------------+------------------+------------------+------------------+---------------------+------------------+------------------+-----------------+----------+------------------+------------------+------------------+------------------+------------------+------------------+------------------+------------------+--------+\n",
            "only showing top 10 rows\n",
            "\n"
          ]
        }
      ]
    },
    {
      "cell_type": "code",
      "source": [
        "pivoted_df_2 = final_df.groupBy(\"developer\").pivot(\"genre\").agg(avg(\"Avg_Score\"))\n",
        "pivoted_df_2.show(20)"
      ],
      "metadata": {
        "colab": {
          "base_uri": "https://localhost:8080/"
        },
        "id": "a4x8j5lZNgWF",
        "outputId": "e845367d-a4d8-43e6-a5be-d06c25a6fcf5"
      },
      "execution_count": null,
      "outputs": [
        {
          "output_type": "stream",
          "name": "stdout",
          "text": [
            "+--------------------+------------------+------------------+-------+-----------------+-----------------+------------------+----+-----+-------+------------------+------------------+------------------+-----------+------------------+------+------------------+------------------+------------------+------------------+------------------+-----------------+-------------------+-----------------+\n",
            "|           developer|         Adventure|            Arcade|Brawler|Card & Board Game|         Fighting|             Indie|MOBA|Music|Pinball|          Platform|   Point-and-Click|            Puzzle|Quiz/Trivia|               RPG|Racing|Real Time Strategy|           Shooter|         Simulator|             Sport|          Strategy|         Tactical|Turn Based Strategy|     Visual Novel|\n",
            "+--------------------+------------------+------------------+-------+-----------------+-----------------+------------------+----+-----+-------+------------------+------------------+------------------+-----------+------------------+------+------------------+------------------+------------------+------------------+------------------+-----------------+-------------------+-----------------+\n",
            "|      11 bit studios|273.84829545454573|               4.3| 972.75|             NULL|             NULL|265.20409090909095|NULL| NULL|   NULL|              NULL| 86.44999999999999|101.97999999999999|       NULL|438.21714285714324|  NULL|11.567391304347826|               4.3|296.73026315789474|              NULL|157.55963855421692|             NULL|               NULL|             NULL|\n",
            "|     Harvester Games|            77.325|              NULL|   NULL|             NULL|             NULL|188.48333333333335|NULL| NULL|   NULL|              NULL| 80.56111111111112|            89.525|      278.3|              NULL|  NULL|              NULL|              NULL|              NULL|              NULL|              NULL|             NULL|               NULL|             NULL|\n",
            "|    Thunder Mountain|              NULL|              NULL|   NULL|             NULL|             NULL|              NULL|NULL| NULL|   NULL|              NULL|              NULL|              NULL|       NULL|              NULL|  NULL|              NULL|              1.95|              1.95|              NULL|              NULL|             NULL|               NULL|             NULL|\n",
            "|                JAMP|              NULL|              NULL|   NULL|             NULL|             NULL|              NULL|NULL| NULL|   NULL|              NULL|              NULL|              NULL|       NULL|              1.85|  NULL|              NULL|              0.95|              NULL|              NULL|              NULL|             NULL|               NULL|             NULL|\n",
            "| Iceberg Interactive| 42.68189655172414|3.9269230769230767| 122.85|             NULL|44.88571428571428|17.030357142857138|NULL|  4.0|   NULL|             4.375| 5.857142857142857|        74.1046875|       NULL|           108.484|  7.45|  7.59230769230769|22.970588235294116| 72.36896551724136|             8.975|24.159375000000008|7.435714285714285|  59.16363636363637|5.599999999999999|\n",
            "|             iPhSoft|              19.9|              NULL|   NULL|             NULL|             NULL|              NULL|NULL| NULL|   NULL|              NULL|              19.9|              19.9|       NULL|              NULL|  NULL|              NULL|              NULL|              NULL|              NULL|              NULL|             NULL|               NULL|             NULL|\n",
            "| Double Damage Games|             47.05|              NULL|   NULL|             NULL|             NULL|             47.05|NULL| NULL|   NULL|              NULL|              NULL|              NULL|       NULL|             47.05|  NULL|              NULL|              NULL|             47.05|              NULL|             47.05|             NULL|               NULL|             NULL|\n",
            "|Nighthawk Interac...|             27.18|            18.475|   NULL|             NULL|              4.5|              NULL|NULL| NULL|   NULL|             27.18|              NULL|              6.05|       NULL|              NULL| 5.675|               4.3|              NULL|              8.35|               4.3|             5.675|             NULL|               NULL|             NULL|\n",
            "|               Axlon|              NULL|              NULL|   NULL|             NULL|             NULL|              NULL|NULL| NULL|   NULL|              NULL|              NULL|              NULL|       NULL|              NULL|   3.0|              NULL|              NULL|              NULL|               3.0|              NULL|             NULL|               NULL|             NULL|\n",
            "|            Starwave|              5.65|              NULL|   5.65|             NULL|             NULL|              NULL|NULL| NULL|   NULL|              NULL|              NULL|              NULL|       NULL|              NULL|  NULL|              NULL|              5.65|              NULL|              NULL|              NULL|             NULL|               NULL|             NULL|\n",
            "|       Pablo Márquez|               2.5|              NULL|   NULL|             NULL|             NULL|              NULL|NULL| NULL|   NULL|              NULL|              NULL|              NULL|       NULL|               2.5|  NULL|              NULL|              NULL|              NULL|              NULL|              NULL|             NULL|               NULL|             NULL|\n",
            "|    Carpe Fulgur LLC|              18.8|              NULL|   NULL|             NULL|             NULL|206.86666666666665|NULL| NULL|   NULL|              18.8|              NULL|              NULL|       NULL|206.86666666666665|  NULL|              NULL|              NULL|             300.9|              NULL|              NULL|             NULL|               NULL|             NULL|\n",
            "|        Funbox Media|              0.65|1.2571428571428573|   NULL|             NULL|             NULL|              0.65|NULL| NULL|   NULL|              NULL|              NULL|              NULL|       NULL|              0.65|   0.6|              NULL| 2.066666666666667|              NULL|1.7100000000000002|              NULL|             NULL|               NULL|             NULL|\n",
            "|        MissingSeven|              NULL|              NULL|   NULL|             NULL|             NULL|              2.05|NULL| NULL|   NULL|              NULL|              NULL|              NULL|       NULL|              2.05|  NULL|              NULL|              NULL|              NULL|              NULL|              NULL|             NULL|               NULL|             NULL|\n",
            "|                Maze|               6.4|              NULL|   NULL|             NULL|             NULL|              NULL|NULL| NULL|   NULL|              NULL|              NULL|              NULL|       NULL|              NULL|  NULL|              NULL|              NULL|              NULL|              NULL|              NULL|             NULL|               NULL|             NULL|\n",
            "|     Expert Software|25.350000000000005|              NULL|   NULL|             NULL|              2.6|              NULL|NULL| NULL|   NULL|              NULL|25.350000000000005|25.350000000000005|       NULL|              NULL|  NULL|              NULL|              NULL|              NULL|              NULL|              NULL|             NULL|               NULL|             NULL|\n",
            "|     FPI Productions|              2.15|              NULL|   NULL|             NULL|             NULL|              NULL|NULL| NULL|   NULL|               1.6|              NULL|              NULL|       NULL|              NULL|  NULL|              NULL|              NULL|              NULL|              NULL|              NULL|             NULL|               NULL|             NULL|\n",
            "| Hyperspace Cowgirls|               3.3|               3.7|   NULL|             NULL|             NULL|              NULL|NULL| NULL|   NULL|              NULL|              NULL|              NULL|       NULL|              NULL|  NULL|              NULL|              NULL|               2.9|              NULL|              NULL|             NULL|               NULL|             NULL|\n",
            "| Renovation Products|              NULL|              NULL|   NULL|             NULL|             8.45|              NULL|NULL| NULL|    3.3|11.649999999999999|              NULL|              NULL|       NULL|              11.0|  NULL|              NULL|               9.2|              NULL|               3.3|              4.55|             NULL|               NULL|             NULL|\n",
            "|        Star Gem Inc|              NULL|              NULL|   NULL|             NULL|             NULL|              NULL|NULL| NULL|   NULL|              NULL|              NULL|              NULL|       NULL|              NULL|  NULL|              NULL|             11.75|             11.75|              NULL|              NULL|             NULL|               NULL|             NULL|\n",
            "+--------------------+------------------+------------------+-------+-----------------+-----------------+------------------+----+-----+-------+------------------+------------------+------------------+-----------+------------------+------+------------------+------------------+------------------+------------------+------------------+-----------------+-------------------+-----------------+\n",
            "only showing top 20 rows\n",
            "\n"
          ]
        }
      ]
    },
    {
      "cell_type": "code",
      "source": [
        "pivoted_df_2 = pivoted_df_2.fillna(0)\n",
        "pivoted_df_2.write.csv(\"/content/pivot\", header=True, mode = 'overwrite')"
      ],
      "metadata": {
        "id": "0NqGZXQPQTPI"
      },
      "execution_count": null,
      "outputs": []
    },
    {
      "source": [
        "import time\n",
        "\n",
        "start_time = time.time()\n",
        "final_df.groupBy(\"developer\").pivot(\"genre\").agg(avg(\"Avg_Score\")).show()  # Trigger action for timing\n",
        "end_time = time.time()\n",
        "\n",
        "print(f\"Execution time: {end_time - start_time} seconds\")"
      ],
      "cell_type": "code",
      "metadata": {
        "colab": {
          "base_uri": "https://localhost:8080/"
        },
        "id": "TjznmLqjVxCs",
        "outputId": "6f091da4-1e00-4ac0-a4ee-813d1235a397"
      },
      "execution_count": null,
      "outputs": [
        {
          "output_type": "stream",
          "name": "stdout",
          "text": [
            "+--------------------+------------------+------------------+-------+-----------------+-----------------+------------------+----+-----+-------+------------------+------------------+------------------+-----------+------------------+------+------------------+------------------+------------------+------------------+------------------+-----------------+-------------------+-----------------+\n",
            "|           developer|         Adventure|            Arcade|Brawler|Card & Board Game|         Fighting|             Indie|MOBA|Music|Pinball|          Platform|   Point-and-Click|            Puzzle|Quiz/Trivia|               RPG|Racing|Real Time Strategy|           Shooter|         Simulator|             Sport|          Strategy|         Tactical|Turn Based Strategy|     Visual Novel|\n",
            "+--------------------+------------------+------------------+-------+-----------------+-----------------+------------------+----+-----+-------+------------------+------------------+------------------+-----------+------------------+------+------------------+------------------+------------------+------------------+------------------+-----------------+-------------------+-----------------+\n",
            "|      11 bit studios|273.84829545454573|               4.3| 972.75|             NULL|             NULL|265.20409090909095|NULL| NULL|   NULL|              NULL| 86.44999999999999|101.97999999999999|       NULL|438.21714285714324|  NULL|11.567391304347826|               4.3|296.73026315789474|              NULL|157.55963855421692|             NULL|               NULL|             NULL|\n",
            "|     Harvester Games|            77.325|              NULL|   NULL|             NULL|             NULL|188.48333333333335|NULL| NULL|   NULL|              NULL| 80.56111111111112|            89.525|      278.3|              NULL|  NULL|              NULL|              NULL|              NULL|              NULL|              NULL|             NULL|               NULL|             NULL|\n",
            "|    Thunder Mountain|              NULL|              NULL|   NULL|             NULL|             NULL|              NULL|NULL| NULL|   NULL|              NULL|              NULL|              NULL|       NULL|              NULL|  NULL|              NULL|              1.95|              1.95|              NULL|              NULL|             NULL|               NULL|             NULL|\n",
            "|                JAMP|              NULL|              NULL|   NULL|             NULL|             NULL|              NULL|NULL| NULL|   NULL|              NULL|              NULL|              NULL|       NULL|              1.85|  NULL|              NULL|              0.95|              NULL|              NULL|              NULL|             NULL|               NULL|             NULL|\n",
            "| Iceberg Interactive| 42.68189655172414|3.9269230769230767| 122.85|             NULL|44.88571428571428|17.030357142857138|NULL|  4.0|   NULL|             4.375| 5.857142857142857|        74.1046875|       NULL|           108.484|  7.45|  7.59230769230769|22.970588235294116| 72.36896551724136|             8.975|24.159375000000008|7.435714285714285|  59.16363636363637|5.599999999999999|\n",
            "|             iPhSoft|              19.9|              NULL|   NULL|             NULL|             NULL|              NULL|NULL| NULL|   NULL|              NULL|              19.9|              19.9|       NULL|              NULL|  NULL|              NULL|              NULL|              NULL|              NULL|              NULL|             NULL|               NULL|             NULL|\n",
            "| Double Damage Games|             47.05|              NULL|   NULL|             NULL|             NULL|             47.05|NULL| NULL|   NULL|              NULL|              NULL|              NULL|       NULL|             47.05|  NULL|              NULL|              NULL|             47.05|              NULL|             47.05|             NULL|               NULL|             NULL|\n",
            "|Nighthawk Interac...|             27.18|            18.475|   NULL|             NULL|              4.5|              NULL|NULL| NULL|   NULL|             27.18|              NULL|              6.05|       NULL|              NULL| 5.675|               4.3|              NULL|              8.35|               4.3|             5.675|             NULL|               NULL|             NULL|\n",
            "|               Axlon|              NULL|              NULL|   NULL|             NULL|             NULL|              NULL|NULL| NULL|   NULL|              NULL|              NULL|              NULL|       NULL|              NULL|   3.0|              NULL|              NULL|              NULL|               3.0|              NULL|             NULL|               NULL|             NULL|\n",
            "|            Starwave|              5.65|              NULL|   5.65|             NULL|             NULL|              NULL|NULL| NULL|   NULL|              NULL|              NULL|              NULL|       NULL|              NULL|  NULL|              NULL|              5.65|              NULL|              NULL|              NULL|             NULL|               NULL|             NULL|\n",
            "|       Pablo Márquez|               2.5|              NULL|   NULL|             NULL|             NULL|              NULL|NULL| NULL|   NULL|              NULL|              NULL|              NULL|       NULL|               2.5|  NULL|              NULL|              NULL|              NULL|              NULL|              NULL|             NULL|               NULL|             NULL|\n",
            "|    Carpe Fulgur LLC|              18.8|              NULL|   NULL|             NULL|             NULL|206.86666666666665|NULL| NULL|   NULL|              18.8|              NULL|              NULL|       NULL|206.86666666666665|  NULL|              NULL|              NULL|             300.9|              NULL|              NULL|             NULL|               NULL|             NULL|\n",
            "|        Funbox Media|              0.65|1.2571428571428573|   NULL|             NULL|             NULL|              0.65|NULL| NULL|   NULL|              NULL|              NULL|              NULL|       NULL|              0.65|   0.6|              NULL| 2.066666666666667|              NULL|1.7100000000000002|              NULL|             NULL|               NULL|             NULL|\n",
            "|        MissingSeven|              NULL|              NULL|   NULL|             NULL|             NULL|              2.05|NULL| NULL|   NULL|              NULL|              NULL|              NULL|       NULL|              2.05|  NULL|              NULL|              NULL|              NULL|              NULL|              NULL|             NULL|               NULL|             NULL|\n",
            "|                Maze|               6.4|              NULL|   NULL|             NULL|             NULL|              NULL|NULL| NULL|   NULL|              NULL|              NULL|              NULL|       NULL|              NULL|  NULL|              NULL|              NULL|              NULL|              NULL|              NULL|             NULL|               NULL|             NULL|\n",
            "|     Expert Software|25.350000000000005|              NULL|   NULL|             NULL|              2.6|              NULL|NULL| NULL|   NULL|              NULL|25.350000000000005|25.350000000000005|       NULL|              NULL|  NULL|              NULL|              NULL|              NULL|              NULL|              NULL|             NULL|               NULL|             NULL|\n",
            "|     FPI Productions|              2.15|              NULL|   NULL|             NULL|             NULL|              NULL|NULL| NULL|   NULL|               1.6|              NULL|              NULL|       NULL|              NULL|  NULL|              NULL|              NULL|              NULL|              NULL|              NULL|             NULL|               NULL|             NULL|\n",
            "| Hyperspace Cowgirls|               3.3|               3.7|   NULL|             NULL|             NULL|              NULL|NULL| NULL|   NULL|              NULL|              NULL|              NULL|       NULL|              NULL|  NULL|              NULL|              NULL|               2.9|              NULL|              NULL|             NULL|               NULL|             NULL|\n",
            "| Renovation Products|              NULL|              NULL|   NULL|             NULL|             8.45|              NULL|NULL| NULL|    3.3|11.649999999999999|              NULL|              NULL|       NULL|              11.0|  NULL|              NULL|               9.2|              NULL|               3.3|              4.55|             NULL|               NULL|             NULL|\n",
            "|        Star Gem Inc|              NULL|              NULL|   NULL|             NULL|             NULL|              NULL|NULL| NULL|   NULL|              NULL|              NULL|              NULL|       NULL|              NULL|  NULL|              NULL|             11.75|             11.75|              NULL|              NULL|             NULL|               NULL|             NULL|\n",
            "+--------------------+------------------+------------------+-------+-----------------+-----------------+------------------+----+-----+-------+------------------+------------------+------------------+-----------+------------------+------+------------------+------------------+------------------+------------------+------------------+-----------------+-------------------+-----------------+\n",
            "only showing top 20 rows\n",
            "\n",
            "Execution time: 21.228753566741943 seconds\n"
          ]
        }
      ]
    },
    {
      "cell_type": "code",
      "source": [
        "from pyspark.sql.functions import col, when, lit\n",
        "\n",
        "unpivoted_df = pivoted_df_2.selectExpr(\"developer\", \"stack(24, 'Adventure', Adventure, 'Arcade', Arcade, 'Brawler', Brawler, 'Card & Board Game', `Card & Board Game`, 'Fighting', Fighting, 'Indie', Indie, 'MOBA', MOBA, 'Music', Music, 'Pinball', Pinball, 'Platform', Platform, 'Point-and-Click', `Point-and-Click`, 'Puzzle', Puzzle, 'Quiz/Trivia', `Quiz/Trivia`, 'RPG', RPG, 'Racing', Racing, 'Real Time Strategy', `Real Time Strategy`, 'Shooter', Shooter, 'Simulator', Simulator, 'Sport', Sport, 'Strategy', Strategy, 'Tactical', Tactical, 'Turn Based Strategy', `Turn Based Strategy`, 'Visual Novel', `Visual Novel`) as (genre, Avg_Score)\").where('Avg_Score is not null')\n",
        "\n",
        "unpivoted_df.show()\n"
      ],
      "metadata": {
        "colab": {
          "base_uri": "https://localhost:8080/"
        },
        "id": "Fab0kDBKVVKk",
        "outputId": "4140e053-6909-45ed-a92b-a30f1916e761"
      },
      "execution_count": null,
      "outputs": [
        {
          "output_type": "stream",
          "name": "stdout",
          "text": [
            "+--------------+------------------+------------------+\n",
            "|     developer|             genre|         Avg_Score|\n",
            "+--------------+------------------+------------------+\n",
            "|11 bit studios|         Adventure|273.84829545454573|\n",
            "|11 bit studios|            Arcade|               4.3|\n",
            "|11 bit studios|           Brawler|            972.75|\n",
            "|11 bit studios| Card & Board Game|               0.0|\n",
            "|11 bit studios|          Fighting|               0.0|\n",
            "|11 bit studios|             Indie|265.20409090909095|\n",
            "|11 bit studios|              MOBA|               0.0|\n",
            "|11 bit studios|             Music|               0.0|\n",
            "|11 bit studios|           Pinball|               0.0|\n",
            "|11 bit studios|          Platform|               0.0|\n",
            "|11 bit studios|   Point-and-Click| 86.44999999999999|\n",
            "|11 bit studios|            Puzzle|101.97999999999999|\n",
            "|11 bit studios|       Quiz/Trivia|               0.0|\n",
            "|11 bit studios|               RPG|438.21714285714324|\n",
            "|11 bit studios|            Racing|               0.0|\n",
            "|11 bit studios|Real Time Strategy|11.567391304347826|\n",
            "|11 bit studios|           Shooter|               4.3|\n",
            "|11 bit studios|         Simulator|296.73026315789474|\n",
            "|11 bit studios|             Sport|               0.0|\n",
            "|11 bit studios|          Strategy|157.55963855421692|\n",
            "+--------------+------------------+------------------+\n",
            "only showing top 20 rows\n",
            "\n"
          ]
        }
      ]
    },
    {
      "cell_type": "code",
      "source": [],
      "metadata": {
        "id": "P-ZtdBSSZwyH"
      },
      "execution_count": null,
      "outputs": []
    }
  ]
}